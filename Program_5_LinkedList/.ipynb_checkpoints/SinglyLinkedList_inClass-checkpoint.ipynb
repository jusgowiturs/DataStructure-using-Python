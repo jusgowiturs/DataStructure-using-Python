{
 "cells": [
  {
   "cell_type": "code",
   "execution_count": 64,
   "metadata": {},
   "outputs": [],
   "source": [
    "class Node(object): \n",
    "    \"\"\"Represents a singly linked node.\"\"\" \n",
    "    def __init__(self, data=None, nextpoint = None): \n",
    "        \"\"\"Instantiates a Node with a default next of None.\"\"\" \n",
    "        self.data = data \n",
    "        self.next = nextpoint\n",
    "    def getNewData(self,Data,oldAddress):\n",
    "        self.address=Node(Data,oldAddress)\n",
    "        return self.address\n",
    "    def PrintData(self,CurrentAddress):\n",
    "        while CurrentAddress.next!=None:\n",
    "            print(\"Data\\t:\\t\",CurrentAddress.data)\n",
    "            CurrentAddress=CurrentAddress.next    # To Change to Next Address position\n",
    "        print(\"Head Address's Data\\t:\\t\",CurrentAddress.data)\n",
    "    def InsertDataEnd(self,Data,CurrentAddress):\n",
    "        self.address=Node(Data,CurrentAddress)\n",
    "        return self.address\n",
    "    def InsertDataStart(self,Data,head):\n",
    "        print(head.data,head.next)\n",
    "        if head.next==None:\n",
    "            tmp1=Node(Data,None)\n",
    "            head.next =tmp1\n",
    "            head=tmp1\n",
    "            return head\n",
    "        #tmp=Node(int(input(\"Enter New Data\")),None)\n",
    "        #CurrentAddress.next=tmp\n",
    "    def RemoveDataEnd(self,CurrentAddress):\n",
    "        return CurrentAddress.next\n",
    "    \n",
    "    def RemoveDataStart(self,tail):\n",
    "        while tail.next!=None:\n",
    "            tmp=tail\n",
    "            tail=tail.next\n",
    "        tmp.next=None\n",
    "        #return tail\n",
    "        \n",
    "    def Count(self,tail) :\n",
    "        count=0\n",
    "        while tail.next!=None:\n",
    "            count+=1\n",
    "            tail=tail.next\n",
    "        return count+1\n",
    "    def Insert_any_index(self,Position,Count,tail):\n",
    "        i=0\n",
    "        Count=Count-1\n",
    "        Position=Position-1\n",
    "        Data=int(input(\"Enter The New Data\"))\n",
    "        #timeon=time.time()\n",
    "        if Position==Count and Count>=Position:\n",
    "            InsertDataEnd(self,Data,tail)\n",
    "            #tmpData=tail.data\n",
    "            #tail.data=int(input(\"Enter New Data\"))\n",
    "            #self.address=Node(tmpData,tail)\n",
    "        #    print(\"Time Taken for in between insertions\\t:\\t\",time.time()-timeon)\n",
    "            return self.address\n",
    "        elif Position == 0 and Count>=Position:\n",
    "            #NewData=int(input(\"Enter New Data\"))\n",
    "            while tail.next!=None:\n",
    "                tail=tail.next\n",
    "            InsertDataStart(self,Data,headtmp)\n",
    "        else:\n",
    "            while i<Position:\n",
    "                tail=tail.next\n",
    "                i+=1\n",
    "            tail.next=Node(Data,tail.next)\n",
    "        #print(\"Time Taken for in between insertions\\t:\\t\",time.time()-timeon)\n",
    "    def swap(self,Pointer):\n",
    "        tmp=Pointer.Data\n",
    "        tmpAddress=Pointer\n",
    "        Pointer=Pointer.next\n",
    "        tmpAddress.Data=Pointer.Data\n",
    "        Pointer.Data=tmp.Data\n",
    "        return\n",
    "            \n",
    "    def Reverse(self,StartPointer):\n",
    "        count=StartPointer.Count(StartPointer)\n",
    "        \n",
    "        while count >0 :\n",
    "            innerCount=count\n",
    "            probe=StartPointer\n",
    "            #probe.PrintData(probe)    #To Know step by results disable this like comment\n",
    "            while innerCount >1:\n",
    "                tmpData=probe.data\n",
    "                #print(\"Current Position Data\\t:\\t\",tmpData)\n",
    "                probe.data=probe.next.data\n",
    "                #print(\"At Current Position Swapped Data\\t:\\t\",probe.data)\n",
    "                probe.next.data=tmpData\n",
    "                #print(\"Next Position swapped from previous data\\t:\\t\",probe.next.data)\n",
    "                probe=probe.next\n",
    "                innerCount-=1\n",
    "            count-=1\n",
    "            print(count)\n",
    "            \n",
    "        return StartPointer\n",
    "                \n",
    "                \n",
    "            "
   ]
  },
  {
   "cell_type": "code",
   "execution_count": 65,
   "metadata": {},
   "outputs": [],
   "source": [
    "head=Node(0)\n",
    "tmp=head"
   ]
  },
  {
   "cell_type": "code",
   "execution_count": 66,
   "metadata": {},
   "outputs": [],
   "source": [
    "string=\"\"\"Some succeed because they are destined. Some succeed because they are determined.\n",
    "Experience is what you get when you don't get what you want.\n",
    "Setting an example is not the main means of inﬂuencing others; it is the only means.\n",
    "A happy person is not a person in a certain set of circumstances, but rather a person with a\n",
    "certain set of attitudes.\n",
    "Ifyou're going to be able to look back on something and laugh about it, you might as well\n",
    "laugh about it now.\n",
    "Remember that happiness is a way of travel, not a destination.\n",
    "If you want to test your memory, try to recall what you were worrying about one year ago\n",
    "today.\n",
    "What lies behind us and what lies before us are tiny matters compared to what lies within us.\n",
    "We judge of man's wisdom by his hope.\n",
    "The best way to cheer yourself up is to try to cheer somebody else up.\n",
    "Age is an issue of mind over matter. If you don't mind, it doesn't matter.\n",
    "Whenever you find yourself on the side of the majority, it's time to pause and reﬂect.\n",
    "Keep away from people who try to belittle your ambitions. Small people always do that, but\n",
    "the really great make you feel that you, too, can become great.\n",
    "The surest way not to fail is to determine to succeed.\n",
    "Take the first step in faith. You don't have to see the whole staircase, just take the ﬁrst step.\"\n",
    "Act or accept.\n",
    "Many great ideas go unexecuted, and many great executioners are without ideas. One without\n",
    "the other is worthless. \n",
    "\n",
    "The world is more malleable than you think and it's waiting for you to hammer it into shape.\n",
    "Sometimes you just got to give yourself what you wish someone else would give you.\n",
    "Motivation is a fire from within. If someone else tries to light that ﬁre under you, chances are\n",
    "it will burn very brieﬂy.\n",
    "\"\"\"\n",
    "string='PrabhuRam'\n",
    "#while(input(\"Enter any key to Continue or N to Quit\\n\")!='N'):\n",
    "for i in string:\n",
    "#    i=int(input(\"Enter New Data\\n\"))\n",
    "    tmp=tmp.getNewData(i,tmp)"
   ]
  },
  {
   "cell_type": "markdown",
   "metadata": {},
   "source": [
    "probe=head\n",
    "while probe.next!=tmp.next:\n",
    "    print(probe.data)\n",
    "    probe=probe.next\n",
    "print(\"Last Data \\t:\",probe.data)"
   ]
  },
  {
   "cell_type": "code",
   "execution_count": 70,
   "metadata": {},
   "outputs": [
    {
     "name": "stdout",
     "output_type": "stream",
     "text": [
      "Data\t:\t m\n",
      "Data\t:\t a\n",
      "Data\t:\t R\n",
      "Data\t:\t u\n",
      "Data\t:\t h\n",
      "Data\t:\t b\n",
      "Data\t:\t a\n",
      "Data\t:\t r\n",
      "Data\t:\t P\n",
      "Head Address's Data\t:\t 0\n",
      "Sorting....\n",
      "\n",
      "Data\t:\t m\n",
      "Data\t:\t a\n",
      "Data\t:\t R\n",
      "Data\t:\t u\n",
      "Data\t:\t h\n",
      "Data\t:\t b\n",
      "Data\t:\t a\n",
      "Data\t:\t r\n",
      "Data\t:\t P\n",
      "Head Address's Data\t:\t 0\n",
      "9\n",
      "Data\t:\t a\n",
      "Data\t:\t R\n",
      "Data\t:\t u\n",
      "Data\t:\t h\n",
      "Data\t:\t b\n",
      "Data\t:\t a\n",
      "Data\t:\t r\n",
      "Data\t:\t P\n",
      "Data\t:\t 0\n",
      "Head Address's Data\t:\t m\n",
      "8\n",
      "Data\t:\t R\n",
      "Data\t:\t u\n",
      "Data\t:\t h\n",
      "Data\t:\t b\n",
      "Data\t:\t a\n",
      "Data\t:\t r\n",
      "Data\t:\t P\n",
      "Data\t:\t 0\n",
      "Data\t:\t a\n",
      "Head Address's Data\t:\t m\n",
      "7\n",
      "Data\t:\t u\n",
      "Data\t:\t h\n",
      "Data\t:\t b\n",
      "Data\t:\t a\n",
      "Data\t:\t r\n",
      "Data\t:\t P\n",
      "Data\t:\t 0\n",
      "Data\t:\t R\n",
      "Data\t:\t a\n",
      "Head Address's Data\t:\t m\n",
      "6\n",
      "Data\t:\t h\n",
      "Data\t:\t b\n",
      "Data\t:\t a\n",
      "Data\t:\t r\n",
      "Data\t:\t P\n",
      "Data\t:\t 0\n",
      "Data\t:\t u\n",
      "Data\t:\t R\n",
      "Data\t:\t a\n",
      "Head Address's Data\t:\t m\n",
      "5\n",
      "Data\t:\t b\n",
      "Data\t:\t a\n",
      "Data\t:\t r\n",
      "Data\t:\t P\n",
      "Data\t:\t 0\n",
      "Data\t:\t h\n",
      "Data\t:\t u\n",
      "Data\t:\t R\n",
      "Data\t:\t a\n",
      "Head Address's Data\t:\t m\n",
      "4\n",
      "Data\t:\t a\n",
      "Data\t:\t r\n",
      "Data\t:\t P\n",
      "Data\t:\t 0\n",
      "Data\t:\t b\n",
      "Data\t:\t h\n",
      "Data\t:\t u\n",
      "Data\t:\t R\n",
      "Data\t:\t a\n",
      "Head Address's Data\t:\t m\n",
      "3\n",
      "Data\t:\t r\n",
      "Data\t:\t P\n",
      "Data\t:\t 0\n",
      "Data\t:\t a\n",
      "Data\t:\t b\n",
      "Data\t:\t h\n",
      "Data\t:\t u\n",
      "Data\t:\t R\n",
      "Data\t:\t a\n",
      "Head Address's Data\t:\t m\n",
      "2\n",
      "Data\t:\t P\n",
      "Data\t:\t 0\n",
      "Data\t:\t r\n",
      "Data\t:\t a\n",
      "Data\t:\t b\n",
      "Data\t:\t h\n",
      "Data\t:\t u\n",
      "Data\t:\t R\n",
      "Data\t:\t a\n",
      "Head Address's Data\t:\t m\n",
      "1\n",
      "Data\t:\t 0\n",
      "Data\t:\t P\n",
      "Data\t:\t r\n",
      "Data\t:\t a\n",
      "Data\t:\t b\n",
      "Data\t:\t h\n",
      "Data\t:\t u\n",
      "Data\t:\t R\n",
      "Data\t:\t a\n",
      "Head Address's Data\t:\t m\n",
      "0\n",
      "Time Taken to Reverse operation  0.0029926300048828125\n"
     ]
    }
   ],
   "source": [
    "import time\n",
    "tmp.PrintData(tmp)\n",
    "#print(tmp.data,tmp.next.data)\n",
    "print(\"Sorting....\\n\")\n",
    "t_start=time.time()\n",
    "tmp=tmp.Reverse(tmp)\n",
    "print(\"Time Taken to Reverse operation \",time.time()-t_start)\n",
    "\n"
   ]
  },
  {
   "cell_type": "markdown",
   "metadata": {},
   "source": [
    "### Measuring Time of Execution"
   ]
  },
  {
   "cell_type": "code",
   "execution_count": 71,
   "metadata": {},
   "outputs": [
    {
     "name": "stdout",
     "output_type": "stream",
     "text": [
      "Data\t:\t 0\n",
      "Data\t:\t P\n",
      "Data\t:\t r\n",
      "Data\t:\t a\n",
      "Data\t:\t b\n",
      "Data\t:\t h\n",
      "Data\t:\t u\n",
      "Data\t:\t R\n",
      "Data\t:\t a\n",
      "Head Address's Data\t:\t m\n"
     ]
    }
   ],
   "source": [
    "tmp.PrintData(tmp)\n"
   ]
  },
  {
   "cell_type": "code",
   "execution_count": null,
   "metadata": {},
   "outputs": [],
   "source": [
    "import time"
   ]
  },
  {
   "cell_type": "code",
   "execution_count": null,
   "metadata": {},
   "outputs": [],
   "source": [
    "#print(t_start)"
   ]
  },
  {
   "cell_type": "code",
   "execution_count": null,
   "metadata": {},
   "outputs": [],
   "source": [
    "print(tmp)\n",
    "Data=int(input(\"Enter new Data\"))\n",
    "t_start=time.time()\n",
    "%time tmp=tmp.InsertDataEnd(Data,tmp)\n",
    "print(\"Time Taken for Inserting at End of Node\\t:\\t\",time.time()-t_start)\n",
    "print(tmp)"
   ]
  },
  {
   "cell_type": "code",
   "execution_count": null,
   "metadata": {},
   "outputs": [],
   "source": [
    "tmp.PrintData(tmp)"
   ]
  },
  {
   "cell_type": "code",
   "execution_count": null,
   "metadata": {},
   "outputs": [],
   "source": [
    "t_start=time.time()\n",
    "tmp=tmp.RemoveDataEnd(tmp)\n",
    "print(\"Time Taken for Remove at End of Node\\t:\\t\",time.time()-t_start)\n",
    "\n",
    "tmp.PrintData(tmp)"
   ]
  },
  {
   "cell_type": "markdown",
   "metadata": {},
   "source": [
    "# print(head,head.next)\n",
    "print(head.data,head.next.data)\n",
    "print(head.PrintData(head))"
   ]
  },
  {
   "cell_type": "code",
   "execution_count": null,
   "metadata": {},
   "outputs": [],
   "source": [
    "print(head.data,head.next)\n",
    "Data=int(input(\"Enter New Data\"))\n",
    "t_start=time.time()\n",
    "head= tmp.InsertDataStart(Data,head)\n",
    "print(\"Time Taken for Inserting at Start of Node\\t:\\t\",time.time()-t_start)\n",
    "\n",
    "print(head.data,head.next)\n"
   ]
  },
  {
   "cell_type": "code",
   "execution_count": null,
   "metadata": {},
   "outputs": [],
   "source": [
    "tmp.PrintData(tmp)"
   ]
  },
  {
   "cell_type": "code",
   "execution_count": null,
   "metadata": {},
   "outputs": [],
   "source": [
    "t_start=time.time()\n",
    "tmp.RemoveDataStart(tmp)\n",
    "print(\"Time Taken for Remove at Start of Node\\t:\\t\",time.time()-t_start)\n",
    "\n",
    "tmp.PrintData(tmp)"
   ]
  },
  {
   "cell_type": "code",
   "execution_count": null,
   "metadata": {},
   "outputs": [],
   "source": [
    "N=tmp.Count(tmp)\n",
    "print(\"Number of Linked List\",N)"
   ]
  },
  {
   "cell_type": "code",
   "execution_count": null,
   "metadata": {},
   "outputs": [],
   "source": [
    "#t_Start=time.time()\n",
    "tmp.Insert_any_index(0,N,tmp)\n",
    "#time.time()-t_Start"
   ]
  },
  {
   "cell_type": "code",
   "execution_count": null,
   "metadata": {},
   "outputs": [],
   "source": [
    "tmp.PrintData(tmp)"
   ]
  },
  {
   "cell_type": "code",
   "execution_count": null,
   "metadata": {},
   "outputs": [],
   "source": []
  }
 ],
 "metadata": {
  "kernelspec": {
   "display_name": "Python 3",
   "language": "python",
   "name": "python3"
  },
  "language_info": {
   "codemirror_mode": {
    "name": "ipython",
    "version": 3
   },
   "file_extension": ".py",
   "mimetype": "text/x-python",
   "name": "python",
   "nbconvert_exporter": "python",
   "pygments_lexer": "ipython3",
   "version": "3.7.4"
  }
 },
 "nbformat": 4,
 "nbformat_minor": 2
}
