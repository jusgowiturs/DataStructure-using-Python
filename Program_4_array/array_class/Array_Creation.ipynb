{
 "cells": [
  {
   "cell_type": "code",
   "execution_count": 3,
   "metadata": {},
   "outputs": [],
   "source": [
    "class Array: \n",
    "    \"\"\"Represents an array.\"\"\" \n",
    "    def __init__(self, capacity, fillValue = None):\n",
    "        \"\"\"Capacity is the static size of the array. fillValue is placed at each position.\"\"\" \n",
    "        self._items = list() \n",
    "        for count in range(capacity): \n",
    "            self._items.append(fillValue) \n",
    "            \n",
    "    def __len__(self): \n",
    "        \"\"\"-> The capacity of the array.\"\"\" \n",
    "        return len(self._items) \n",
    "    def __str__(self): \n",
    "        \"\"\"-> The string representation of the array.\"\"\" \n",
    "        return str(self._items) \n",
    "    def __iter__(self): \n",
    "        \"\"\"Supports traversal with a for loop.\"\"\"\n",
    "        return iter(self._items) \n",
    "    def __getitem__(self, index):\n",
    "        \"\"\"Subscript operator for access at index.\"\"\" \n",
    "        \n",
    "        return self._items[index] \n",
    "    def __setitem__(self, index, newItem):\n",
    "        \"\"\"Subscript operator for replacement at index.\"\"\" \n",
    "        self._items[index] = newItem\n",
    "        \n",
    "    def maxx(self):\n",
    "        return max(self)\n",
    "    def minn(self):\n",
    "        return min(self)\n",
    "            "
   ]
  },
  {
   "cell_type": "code",
   "execution_count": 3,
   "metadata": {},
   "outputs": [
    {
     "name": "stdout",
     "output_type": "stream",
     "text": [
      "1 [1, 1, 1, 1, 1]\n"
     ]
    },
    {
     "data": {
      "text/plain": [
       "5"
      ]
     },
     "execution_count": 3,
     "metadata": {},
     "output_type": "execute_result"
    }
   ],
   "source": [
    "a=Array(5,1)\n",
    "print(a[0],a)\n",
    "a[0]=1.0\n",
    "a[1]=2.0\n",
    "a[2]=3.0\n",
    "a[3]=4.0\n",
    "a[4]=5.0\n",
    "len(a)"
   ]
  },
  {
   "cell_type": "code",
   "execution_count": 21,
   "metadata": {},
   "outputs": [
    {
     "name": "stdout",
     "output_type": "stream",
     "text": [
      "1.0 1527467963056 <class 'float'>\n",
      "2.0 1527465817264 <class 'float'>\n",
      "3.0 1527467963760 <class 'float'>\n",
      "4.0 1527467963088 <class 'float'>\n",
      "5.0 1527467963856 <class 'float'>\n"
     ]
    }
   ],
   "source": [
    "for index,element in enumerate(a):\n",
    "    print(element,(id(element)),type(element))"
   ]
  },
  {
   "cell_type": "code",
   "execution_count": 62,
   "metadata": {},
   "outputs": [
    {
     "name": "stdout",
     "output_type": "stream",
     "text": [
      "5\n",
      "[1, 1, 1, 1, 1] [1, 1, 1, 1, 1] <class '__main__.Array'>\n"
     ]
    }
   ],
   "source": [
    "print(len(a))\n",
    "print(str(a),a,type(a))"
   ]
  },
  {
   "cell_type": "code",
   "execution_count": 63,
   "metadata": {},
   "outputs": [
    {
     "name": "stdout",
     "output_type": "stream",
     "text": [
      "[1, 1, 1, 1, 1]\n",
      "12\n"
     ]
    }
   ],
   "source": [
    "print(a)\n",
    "\n",
    "a[1]=12\n",
    "print(a.maxx())\n"
   ]
  },
  {
   "cell_type": "code",
   "execution_count": 64,
   "metadata": {},
   "outputs": [
    {
     "name": "stdout",
     "output_type": "stream",
     "text": [
      "[1, 12, 1, 1, 1] <class 'list'>\n"
     ]
    }
   ],
   "source": [
    "b=list(a)\n",
    "print(b,type(b))\n"
   ]
  },
  {
   "cell_type": "code",
   "execution_count": 65,
   "metadata": {},
   "outputs": [
    {
     "name": "stdout",
     "output_type": "stream",
     "text": [
      "1\n",
      "12\n",
      "1\n",
      "1\n",
      "1\n"
     ]
    }
   ],
   "source": [
    "for i in a:\n",
    "    print(i)"
   ]
  },
  {
   "cell_type": "code",
   "execution_count": 66,
   "metadata": {},
   "outputs": [
    {
     "name": "stdout",
     "output_type": "stream",
     "text": [
      "10\n",
      "212\n",
      "21\n",
      "1\n",
      "22\n"
     ]
    }
   ],
   "source": [
    "for i in range(len(a)):\n",
    "    a[i] = int(input())\n",
    "    "
   ]
  },
  {
   "cell_type": "code",
   "execution_count": 72,
   "metadata": {},
   "outputs": [
    {
     "name": "stdout",
     "output_type": "stream",
     "text": [
      "212 1\n"
     ]
    }
   ],
   "source": [
    "print(a.maxx(),a.minn())\n"
   ]
  },
  {
   "cell_type": "code",
   "execution_count": 68,
   "metadata": {},
   "outputs": [],
   "source": [
    "aa=[1,2,3,4,4,54,2]"
   ]
  },
  {
   "cell_type": "code",
   "execution_count": 69,
   "metadata": {},
   "outputs": [
    {
     "data": {
      "text/plain": [
       "'b'"
      ]
     },
     "execution_count": 69,
     "metadata": {},
     "output_type": "execute_result"
    }
   ],
   "source": [
    "max({'1':1,'2':3})\n",
    "max('aaa','b')"
   ]
  },
  {
   "cell_type": "code",
   "execution_count": 70,
   "metadata": {},
   "outputs": [
    {
     "name": "stdout",
     "output_type": "stream",
     "text": [
      "<class 'list'>\n"
     ]
    }
   ],
   "source": [
    "b=[1,2,3]\n",
    "print(type(b))"
   ]
  },
  {
   "cell_type": "code",
   "execution_count": 71,
   "metadata": {},
   "outputs": [
    {
     "data": {
      "text/plain": [
       "11"
      ]
     },
     "execution_count": 71,
     "metadata": {},
     "output_type": "execute_result"
    }
   ],
   "source": [
    "max([11,4.0,2.9])"
   ]
  },
  {
   "cell_type": "code",
   "execution_count": 57,
   "metadata": {},
   "outputs": [
    {
     "data": {
      "text/plain": [
       "'arun'"
      ]
     },
     "execution_count": 57,
     "metadata": {},
     "output_type": "execute_result"
    }
   ],
   "source": [
    "max(['Arun','Yokesh','arun'])"
   ]
  },
  {
   "cell_type": "code",
   "execution_count": 1,
   "metadata": {},
   "outputs": [
    {
     "data": {
      "text/plain": [
       "2"
      ]
     },
     "execution_count": 1,
     "metadata": {},
     "output_type": "execute_result"
    }
   ],
   "source": [
    "4//2"
   ]
  },
  {
   "cell_type": "code",
   "execution_count": 2,
   "metadata": {},
   "outputs": [
    {
     "data": {
      "text/plain": [
       "4"
      ]
     },
     "execution_count": 2,
     "metadata": {},
     "output_type": "execute_result"
    }
   ],
   "source": [
    "9//2\n"
   ]
  },
  {
   "cell_type": "code",
   "execution_count": 3,
   "metadata": {},
   "outputs": [
    {
     "data": {
      "text/plain": [
       "4.5"
      ]
     },
     "execution_count": 3,
     "metadata": {},
     "output_type": "execute_result"
    }
   ],
   "source": [
    "9/2\n"
   ]
  },
  {
   "cell_type": "code",
   "execution_count": 4,
   "metadata": {},
   "outputs": [
    {
     "data": {
      "text/plain": [
       "1"
      ]
     },
     "execution_count": 4,
     "metadata": {},
     "output_type": "execute_result"
    }
   ],
   "source": [
    "9%2"
   ]
  },
  {
   "cell_type": "code",
   "execution_count": null,
   "metadata": {},
   "outputs": [],
   "source": [
    "  "
   ]
  },
  {
   "cell_type": "code",
   "execution_count": 1,
   "metadata": {},
   "outputs": [],
   "source": [
    "class Grid(object): \n",
    "    \"\"\"Represents a two-dimensional array.\"\"\" \n",
    "    def __init__(self, rows, columns, fillValue = None): \n",
    "        self._data = Array(rows) \n",
    "        for row in range (rows): \n",
    "            self._data[row] = Array(columns, fillValue)\n",
    "    def getHeight(self): \n",
    "        \"\"\"Returns the number of rows.\"\"\" \n",
    "        return len(self._data) \n",
    "    def getWidth(self): \n",
    "        \"Returns the number of columns.\"\"\" \n",
    "        return len(self._data[0]) \n",
    "    def __getitem__(self, index): \n",
    "        \"\"\"Supports two-dimensional indexing with [row][column].\"\"\" \n",
    "        return self._data[index] \n",
    "    def __str__(self): \n",
    "        \"\"\"Returns a string representation of the grid.\"\"\" \n",
    "        result = \"\" \n",
    "        for row in range (self.getHeight()): \n",
    "            for col in range (self.getWidth()):\n",
    "                result += str(self._data[row][col]) + \" \" \n",
    "                result += \"\\n\" \n",
    "                return result\n"
   ]
  },
  {
   "cell_type": "code",
   "execution_count": 4,
   "metadata": {},
   "outputs": [],
   "source": [
    "AA = Grid(4,5,0)"
   ]
  },
  {
   "cell_type": "code",
   "execution_count": 5,
   "metadata": {},
   "outputs": [
    {
     "name": "stdout",
     "output_type": "stream",
     "text": [
      "0 \n",
      "\n"
     ]
    }
   ],
   "source": [
    "print(AA)"
   ]
  },
  {
   "cell_type": "code",
   "execution_count": 9,
   "metadata": {},
   "outputs": [],
   "source": [
    "AA[0][2]=20"
   ]
  },
  {
   "cell_type": "code",
   "execution_count": 11,
   "metadata": {},
   "outputs": [
    {
     "name": "stdout",
     "output_type": "stream",
     "text": [
      "0\n",
      "10\n",
      "20\n",
      "0\n",
      "0\n",
      "0\n",
      "0\n",
      "0\n",
      "0\n",
      "0\n",
      "0\n",
      "0\n",
      "0\n",
      "0\n",
      "0\n",
      "0\n",
      "0\n",
      "0\n",
      "0\n",
      "0\n"
     ]
    }
   ],
   "source": [
    "for i in range(4):\n",
    "    for j in range(5):\n",
    "        print(AA[i][j])"
   ]
  },
  {
   "cell_type": "code",
   "execution_count": null,
   "metadata": {},
   "outputs": [],
   "source": []
  }
 ],
 "metadata": {
  "kernelspec": {
   "display_name": "Python 3",
   "language": "python",
   "name": "python3"
  },
  "language_info": {
   "codemirror_mode": {
    "name": "ipython",
    "version": 3
   },
   "file_extension": ".py",
   "mimetype": "text/x-python",
   "name": "python",
   "nbconvert_exporter": "python",
   "pygments_lexer": "ipython3",
   "version": "3.7.4"
  },
  "widgets": {
   "application/vnd.jupyter.widget-state+json": {
    "state": {},
    "version_major": 2,
    "version_minor": 0
   }
  }
 },
 "nbformat": 4,
 "nbformat_minor": 2
}
