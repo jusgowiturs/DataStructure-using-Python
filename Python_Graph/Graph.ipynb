{
  "nbformat": 4,
  "nbformat_minor": 0,
  "metadata": {
    "colab": {
      "name": "Graph.ipynb",
      "provenance": [],
      "authorship_tag": "ABX9TyOeT8i1/ItAcwoCnOvdlrPs",
      "include_colab_link": true
    },
    "kernelspec": {
      "name": "python3",
      "display_name": "Python 3"
    },
    "language_info": {
      "name": "python"
    }
  },
  "cells": [
    {
      "cell_type": "markdown",
      "metadata": {
        "id": "view-in-github",
        "colab_type": "text"
      },
      "source": [
        "<a href=\"https://colab.research.google.com/github/jusgowiturs/DataStructure-using-Python/blob/main/Python_Graph/Graph.ipynb\" target=\"_parent\"><img src=\"https://colab.research.google.com/assets/colab-badge.svg\" alt=\"Open In Colab\"/></a>"
      ]
    },
    {
      "cell_type": "markdown",
      "metadata": {
        "id": "WOjpSHhrr8j8"
      },
      "source": [
        "# Graph Representation in Python\n"
      ]
    },
    {
      "cell_type": "code",
      "metadata": {
        "id": "38653XENr3mq"
      },
      "source": [
        ""
      ],
      "execution_count": null,
      "outputs": []
    }
  ]
}