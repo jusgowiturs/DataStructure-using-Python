{
  "nbformat": 4,
  "nbformat_minor": 0,
  "metadata": {
    "colab": {
      "name": "Graph.ipynb",
      "provenance": [],
      "collapsed_sections": [],
      "authorship_tag": "ABX9TyPygbYqJs8O3aDxJzFNJsVZ",
      "include_colab_link": true
    },
    "kernelspec": {
      "name": "python3",
      "display_name": "Python 3"
    },
    "language_info": {
      "name": "python"
    }
  },
  "cells": [
    {
      "cell_type": "markdown",
      "metadata": {
        "id": "view-in-github",
        "colab_type": "text"
      },
      "source": [
        "<a href=\"https://colab.research.google.com/github/jusgowiturs/DataStructure-using-Python/blob/main/Python_Graph/Graph.ipynb\" target=\"_parent\"><img src=\"https://colab.research.google.com/assets/colab-badge.svg\" alt=\"Open In Colab\"/></a>"
      ]
    },
    {
      "cell_type": "markdown",
      "metadata": {
        "id": "WOjpSHhrr8j8"
      },
      "source": [
        "# Graph Representation in Python\n",
        "\n",
        "\n",
        "*   Adjacency Matrix\n",
        "*   Adjacency List\n",
        "\n"
      ]
    },
    {
      "cell_type": "markdown",
      "metadata": {
        "id": "3ir8ndmq39sL"
      },
      "source": [
        "# User Defined Graph Data Structure for Adjacency List Representation"
      ]
    },
    {
      "cell_type": "code",
      "metadata": {
        "id": "38653XENr3mq"
      },
      "source": [
        "class Graph:\n",
        "  \"\"\"Graph Data Structure and Representation in Adjacency List\"\"\"\n",
        "  def __init__(self):\n",
        "    self.Adj_Lst = {}\n",
        "    self.vertex = []\n",
        "    #self.edge = []\n",
        "  def addvertex(self,Node_Name = None):\n",
        "    self.vertex.append(Node_Name)\n",
        "    self.Adj_Lst[Node_Name] = []\n",
        "  def addedge(self,src_node,target_node,weight=1):\n",
        "    self.Adj_Lst[src_node].append([target_node,weight])\n",
        "    self.Adj_Lst[target_node].append([src_node,weight])\n",
        "  def __str__(self):\n",
        "    print(\"Internal Adjacency List Representation\\n\")\n",
        "    return(str(self.Adj_Lst))\n",
        "\n"
      ],
      "execution_count": 122,
      "outputs": []
    },
    {
      "cell_type": "code",
      "metadata": {
        "id": "FtRPhcU5v0l2"
      },
      "source": [
        "# Object for User Defined Data structure in Graph\n",
        "G  = Graph()"
      ],
      "execution_count": 123,
      "outputs": []
    },
    {
      "cell_type": "markdown",
      "metadata": {
        "id": "ZwZyXmzK20i_"
      },
      "source": [
        "##### Creation of Vertics"
      ]
    },
    {
      "cell_type": "code",
      "metadata": {
        "id": "SHfNYdcCyCVf"
      },
      "source": [
        "\n",
        "G.addvertex('A')\n",
        "G.addvertex('B')\n",
        "G.addvertex('C')\n",
        "G.addvertex('D')"
      ],
      "execution_count": 124,
      "outputs": []
    },
    {
      "cell_type": "markdown",
      "metadata": {
        "id": "fIe_VrpJ3Cwp"
      },
      "source": [
        "##### Displaying Vertics Created for certain Datastructure"
      ]
    },
    {
      "cell_type": "code",
      "metadata": {
        "colab": {
          "base_uri": "https://localhost:8080/"
        },
        "id": "-SvQjYyAyHnm",
        "outputId": "274b0af7-e589-4e4a-fbe7-aa8a2c6bd20d"
      },
      "source": [
        "G.vertex"
      ],
      "execution_count": 125,
      "outputs": [
        {
          "output_type": "execute_result",
          "data": {
            "text/plain": [
              "['A', 'B', 'C', 'D']"
            ]
          },
          "metadata": {
            "tags": []
          },
          "execution_count": 125
        }
      ]
    },
    {
      "cell_type": "markdown",
      "metadata": {
        "id": "WPdVu-uG3MiZ"
      },
      "source": [
        "###### Addition of Edges between vertics as per above example\n",
        "In this addedge() function is used for addition of edges between vertics, by passing three arguments. Argument 1 is Source Vertex, Argument 2 is Target Vertex does link to be established, Argument 3 is weight of an edge between two vertics"
      ]
    },
    {
      "cell_type": "code",
      "metadata": {
        "id": "o7MChC25yLM3"
      },
      "source": [
        "G.addedge('A','B',1)\n",
        "G.addedge('A','C',1)\n",
        "G.addedge('A','D',1)\n",
        "G.addedge('B','C',1)\n",
        "\n"
      ],
      "execution_count": 126,
      "outputs": []
    },
    {
      "cell_type": "markdown",
      "metadata": {
        "id": "BzyhZpye3tSL"
      },
      "source": [
        "## Display Graph in the representation of Adjacency list of the above example"
      ]
    },
    {
      "cell_type": "code",
      "metadata": {
        "colab": {
          "base_uri": "https://localhost:8080/"
        },
        "id": "FdLJpSC2yanQ",
        "outputId": "9db85d54-c171-45bf-a049-2cff4fe95066"
      },
      "source": [
        "print(G)"
      ],
      "execution_count": 127,
      "outputs": [
        {
          "output_type": "stream",
          "text": [
            "Internal Adjacency List Representation\n",
            "\n",
            "{'A': [['B', 1], ['C', 1], ['D', 1]], 'B': [['A', 1], ['C', 1]], 'C': [['A', 1], ['B', 1]], 'D': [['A', 1]]}\n"
          ],
          "name": "stdout"
        }
      ]
    },
    {
      "cell_type": "markdown",
      "metadata": {
        "id": "y642UEQj95-j"
      },
      "source": [
        ""
      ]
    },
    {
      "cell_type": "markdown",
      "metadata": {
        "id": "VHiWtO304XeQ"
      },
      "source": [
        "# User Defined Graph Data Structure for Adjacency Matrix "
      ]
    },
    {
      "cell_type": "code",
      "metadata": {
        "id": "jkfFt8olyfD9"
      },
      "source": [
        "class Graph:\n",
        "  \"\"\"Graph Data Structure and Representation in Adjacency Matrix\"\"\"\n",
        "  def __init__(self):\n",
        "    self.vertex = []\n",
        "    #self.edge = []\n",
        "  def addvertex(self,Node_Name = None):\n",
        "    if not Node_Name in self.vertex:\n",
        "      self.vertex.append(Node_Name)\n",
        "      self.Adj_Mat = [[0 for j in range(len((self.vertex)))] for i in range(len((self.vertex)))]\n",
        "  def addedge(self,src_node,target_node,weight=1):\n",
        "    if src_node in self.vertex and target_node in self.vertex:\n",
        "      index1 = self.vertex.index(src_node)\n",
        "      index2 = self.vertex.index(target_node)\n",
        "      self.Adj_Mat[index1][index2] = weight\n",
        "      self.Adj_Mat[index2][index1] = weight\n",
        "    else:\n",
        "      print(\"No such vertex added\\n instead first include into the graph using addvertex()\")\n",
        "  def __str__(self):\n",
        "    print(\"Internal Adjacency List Representation\\n\")\n",
        "    return(str(self.Adj_Mat))\n",
        "\n"
      ],
      "execution_count": 115,
      "outputs": []
    },
    {
      "cell_type": "code",
      "metadata": {
        "id": "ZzkYpx2E4q1n"
      },
      "source": [
        "G = Graph()"
      ],
      "execution_count": 116,
      "outputs": []
    },
    {
      "cell_type": "code",
      "metadata": {
        "id": "6M50HDT24sis"
      },
      "source": [
        "G.addvertex('A')\n",
        "G.addvertex('B')\n",
        "G.addvertex('C')"
      ],
      "execution_count": 117,
      "outputs": []
    },
    {
      "cell_type": "code",
      "metadata": {
        "id": "tYjDvp4L4wqI"
      },
      "source": [
        "G.addvertex('D')"
      ],
      "execution_count": 118,
      "outputs": []
    },
    {
      "cell_type": "code",
      "metadata": {
        "colab": {
          "base_uri": "https://localhost:8080/"
        },
        "id": "6AylYVqB41FO",
        "outputId": "8e5dca36-510f-42cd-8405-8533ba0b279f"
      },
      "source": [
        "G.Adj_Mat"
      ],
      "execution_count": 119,
      "outputs": [
        {
          "output_type": "execute_result",
          "data": {
            "text/plain": [
              "[[0, 0, 0, 0], [0, 0, 0, 0], [0, 0, 0, 0], [0, 0, 0, 0]]"
            ]
          },
          "metadata": {
            "tags": []
          },
          "execution_count": 119
        }
      ]
    },
    {
      "cell_type": "code",
      "metadata": {
        "id": "apFcUGw36MEl"
      },
      "source": [
        "G.addedge('A','B',1)\n",
        "G.addedge('A','C',1)\n",
        "G.addedge('A','D',1)\n",
        "G.addedge('B','C',1)\n"
      ],
      "execution_count": 120,
      "outputs": []
    },
    {
      "cell_type": "code",
      "metadata": {
        "colab": {
          "base_uri": "https://localhost:8080/"
        },
        "id": "mDL1nDUZ7sPt",
        "outputId": "fa2e4a67-9ff3-44f0-aa04-a63e6431db5f"
      },
      "source": [
        "print(G)"
      ],
      "execution_count": 121,
      "outputs": [
        {
          "output_type": "stream",
          "text": [
            "Internal Adjacency List Representation\n",
            "\n",
            "[[0, 1, 1, 1], [1, 0, 1, 0], [1, 1, 0, 0], [1, 0, 0, 0]]\n"
          ],
          "name": "stdout"
        }
      ]
    },
    {
      "cell_type": "code",
      "metadata": {
        "id": "c3NHihvy8BLV"
      },
      "source": [
        ""
      ],
      "execution_count": null,
      "outputs": []
    }
  ]
}