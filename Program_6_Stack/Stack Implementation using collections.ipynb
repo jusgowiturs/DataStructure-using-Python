{
 "cells": [
  {
   "cell_type": "code",
   "execution_count": 128,
   "metadata": {},
   "outputs": [
    {
     "name": "stdout",
     "output_type": "stream",
     "text": [
      "[]\n",
      "[1]\n",
      "[1, 2]\n",
      "[1, 2, 3]\n",
      "[1, 2]\n"
     ]
    }
   ],
   "source": [
    "class stack_listBased:\n",
    "    def __init__(self):\n",
    "        self.__stak=list()\n",
    "    def push(self,data):\n",
    "        self.__stak.append(data)\n",
    "    def pop(self):\n",
    "        try:\n",
    "            return self.__stak.pop()\n",
    "        except:\n",
    "            print(\"Stack is Empty \")\n",
    "            return None\n",
    "    def __str__(self):\n",
    "        return str(self.__stak)\n",
    "    def __len__(self):\n",
    "        return len(self.__stak)\n",
    "    def peek(self):\n",
    "        try:\n",
    "            return self.__stak[-1]\n",
    "        except:\n",
    "            print(\"Stack is Empty\")\n",
    "            return None\n",
    "    def isEmpty(self):\n",
    "        if len(self.__stak)==0:\n",
    "            return True\n",
    "        else:\n",
    "            return False\n",
    "    \n",
    "    \n",
    "\n",
    "s=stack_listBased()\n",
    "print(s)\n",
    "s.push(1)\n",
    "print(s)\n",
    "s.push(2)\n",
    "print(s)\n",
    "s.push(3)\n",
    "print(s)\n",
    "s.pop()\n",
    "print(s)\n",
    "\n"
   ]
  },
  {
   "cell_type": "code",
   "execution_count": null,
   "metadata": {},
   "outputs": [],
   "source": []
  },
  {
   "cell_type": "code",
   "execution_count": 129,
   "metadata": {},
   "outputs": [],
   "source": [
    "class Node(object): \n",
    "    \"\"\"Represents a singly linked node.\"\"\" \n",
    "    def __init__(self, data=None, nextpoint = None): \n",
    "        \"\"\"Instantiates a Node with a default next of None.\"\"\" \n",
    "        self.data = data \n",
    "        self.next = nextpoint\n",
    "class Stack_LinkedList(object):\n",
    "    def __init__(self):\n",
    "        self.StackPointer=Node()\n",
    "    def push(self,data):\n",
    "        self.StackPointer=Node(data,self.StackPointer)\n",
    "    def pop(self):\n",
    "        if not self.isEmpty():\n",
    "            Data=self.StackPointer.data\n",
    "            self.StackPointer=self.StackPointer.next\n",
    "            return Data\n",
    "        else:\n",
    "            print(\"Stack is Empty\")\n",
    "    def isEmpty(self):\n",
    "        if self.StackPointer.next == None:\n",
    "            return True\n",
    "        else:\n",
    "            return False\n",
    "    def __str__(self):\n",
    "        probe=self.StackPointer\n",
    "        print(\"_\"*10)\n",
    "            \n",
    "        while probe.next !=None:\n",
    "            print(\"|\"+\"_\"*3+str(probe.data)+\"_\"*3+\"|\")\n",
    "            probe=probe.next\n",
    "        #print(\"_\"*10)\n",
    "        print(\"|__None__|\")   \n",
    "        return \"done\""
   ]
  },
  {
   "cell_type": "code",
   "execution_count": 130,
   "metadata": {},
   "outputs": [],
   "source": [
    "S=Stack_LinkedList()"
   ]
  },
  {
   "cell_type": "code",
   "execution_count": 131,
   "metadata": {},
   "outputs": [],
   "source": [
    "S.push(40)\n",
    "S.push(30)\n",
    "S.push(20)"
   ]
  },
  {
   "cell_type": "code",
   "execution_count": 132,
   "metadata": {},
   "outputs": [
    {
     "name": "stdout",
     "output_type": "stream",
     "text": [
      "__________\n",
      "|___20___|\n",
      "|___30___|\n",
      "|___40___|\n",
      "|__None__|\n",
      "done\n"
     ]
    }
   ],
   "source": [
    "print(S)"
   ]
  },
  {
   "cell_type": "code",
   "execution_count": 133,
   "metadata": {},
   "outputs": [
    {
     "data": {
      "text/plain": [
       "20"
      ]
     },
     "execution_count": 133,
     "metadata": {},
     "output_type": "execute_result"
    }
   ],
   "source": [
    "S.pop()"
   ]
  },
  {
   "cell_type": "code",
   "execution_count": 134,
   "metadata": {},
   "outputs": [],
   "source": [
    "from collections import deque \n",
    "\n",
    "s_deque =deque(maxlen=8)\n",
    "#stack = deque()"
   ]
  },
  {
   "cell_type": "code",
   "execution_count": 136,
   "metadata": {},
   "outputs": [
    {
     "name": "stdout",
     "output_type": "stream",
     "text": [
      "deque(['a', 'a'], maxlen=8)\n",
      "deque(['a', 'a', 'b'], maxlen=8)\n",
      "deque(['a', 'a', 'b', 'c'], maxlen=8)\n",
      "deque(['a', 'a', 'b', 'c', 'a'], maxlen=8)\n",
      "deque(['a', 'a', 'b', 'c', 'a', 'b'], maxlen=8)\n",
      "deque(['a', 'a', 'b', 'c', 'a', 'b', 'c'], maxlen=8)\n",
      "deque(['a', 'a', 'b', 'c', 'a', 'b', 'c', 'a'], maxlen=8)\n",
      "deque(['a', 'b', 'c', 'a', 'b', 'c', 'a', 'b'], maxlen=8)\n",
      "deque(['b', 'c', 'a', 'b', 'c', 'a', 'b', 'c'], maxlen=8)\n"
     ]
    }
   ],
   "source": [
    "# append() function to push \n",
    "# element in the stack \n",
    "s_deque.append('a') \n",
    "print(s_deque) \n",
    "\n",
    "s_deque.append('b') \n",
    "print(s_deque) \n",
    "s_deque.append('c') \n",
    "print(s_deque) \n",
    "s_deque.append('a') \n",
    "print(s_deque) \n",
    "s_deque.append('b') \n",
    "print(s_deque) \n",
    "s_deque.append('c') \n",
    "print(s_deque) \n",
    "s_deque.append('a') \n",
    "print(s_deque) \n",
    "s_deque.append('b') \n",
    "print(s_deque) \n",
    "s_deque.append('c') \n",
    "print(s_deque) \n",
    "  "
   ]
  },
  {
   "cell_type": "code",
   "execution_count": 141,
   "metadata": {},
   "outputs": [
    {
     "name": "stdout",
     "output_type": "stream",
     "text": [
      "Initial stack:\n",
      "deque(['b', 'c', 'a', 'b', 'c', 'a', 'b', 'c'], maxlen=8)\n",
      "\n",
      "Elements poped from stack:\n",
      "c\n",
      "b\n",
      "a\n",
      "\n",
      "Stack after elements are poped:\n",
      "deque(['b', 'c', 'a', 'b', 'c'], maxlen=8)\n"
     ]
    }
   ],
   "source": [
    "print('Initial stack:') \n",
    "print(s_deque) \n",
    "  \n",
    "# pop() fucntion to pop \n",
    "# element from stack in  \n",
    "# LIFO order \n",
    "print('\\nElements poped from stack:') \n",
    "print(s_deque.pop()) \n",
    "print(s_deque.pop()) \n",
    "print(s_deque.pop()) \n",
    "  \n",
    "print('\\nStack after elements are poped:') \n",
    "print(s_deque) \n",
    "  \n",
    "# uncommenting print(stack.pop())   \n",
    "# will cause an IndexError  \n",
    "# as the stack is now empty "
   ]
  },
  {
   "cell_type": "code",
   "execution_count": 142,
   "metadata": {},
   "outputs": [
    {
     "ename": "NameError",
     "evalue": "name 'stack' is not defined",
     "output_type": "error",
     "traceback": [
      "\u001b[1;31m---------------------------------------------------------------------------\u001b[0m",
      "\u001b[1;31mNameError\u001b[0m                                 Traceback (most recent call last)",
      "\u001b[1;32m<ipython-input-142-06290a781ed3>\u001b[0m in \u001b[0;36m<module>\u001b[1;34m\u001b[0m\n\u001b[1;32m----> 1\u001b[1;33m \u001b[0mstack\u001b[0m\u001b[1;33m.\u001b[0m\u001b[0mappend\u001b[0m\u001b[1;33m(\u001b[0m\u001b[1;34m'a'\u001b[0m\u001b[1;33m)\u001b[0m\u001b[1;33m\u001b[0m\u001b[1;33m\u001b[0m\u001b[0m\n\u001b[0m\u001b[0;32m      2\u001b[0m \u001b[0mprint\u001b[0m\u001b[1;33m(\u001b[0m\u001b[0mlen\u001b[0m\u001b[1;33m(\u001b[0m\u001b[0mstack\u001b[0m\u001b[1;33m)\u001b[0m\u001b[1;33m)\u001b[0m\u001b[1;33m\u001b[0m\u001b[1;33m\u001b[0m\u001b[0m\n\u001b[0;32m      3\u001b[0m \u001b[0mstack\u001b[0m\u001b[1;33m\u001b[0m\u001b[1;33m\u001b[0m\u001b[0m\n",
      "\u001b[1;31mNameError\u001b[0m: name 'stack' is not defined"
     ]
    }
   ],
   "source": [
    "stack.append('a')\n",
    "print(len(stack))\n",
    "stack"
   ]
  },
  {
   "cell_type": "code",
   "execution_count": 143,
   "metadata": {},
   "outputs": [
    {
     "name": "stdout",
     "output_type": "stream",
     "text": [
      "0\n",
      "1\n",
      "<queue.LifoQueue object at 0x00000203716CCF48>\n",
      "2\n",
      "<queue.LifoQueue object at 0x00000203716CCF48>\n",
      "3\n",
      "<queue.LifoQueue object at 0x00000203716CCF48>\n",
      "4\n",
      "<queue.LifoQueue object at 0x00000203716CCF48>\n",
      "5\n",
      "<queue.LifoQueue object at 0x00000203716CCF48>\n",
      "6\n",
      "<queue.LifoQueue object at 0x00000203716CCF48>\n",
      "7\n",
      "<queue.LifoQueue object at 0x00000203716CCF48>\n",
      "8\n",
      "<queue.LifoQueue object at 0x00000203716CCF48>\n",
      "9\n",
      "<queue.LifoQueue object at 0x00000203716CCF48>\n"
     ]
    }
   ],
   "source": [
    "from queue import LifoQueue \n",
    "\n",
    "#stack=LifoQueue()\n",
    "stack=LifoQueue(maxsize=10)\n",
    "\n",
    "print(stack.qsize())\n",
    "\n",
    "stack.put(9)\n",
    "print(stack.qsize())\n",
    "print(stack)\n",
    "stack.put(9)\n",
    "print(stack.qsize())\n",
    "print(stack)\n",
    "stack.put(9)\n",
    "print(stack.qsize())\n",
    "print(stack)\n",
    "stack.put(9)\n",
    "print(stack.qsize())\n",
    "print(stack)\n",
    "stack.put(9)\n",
    "print(stack.qsize())\n",
    "print(stack)\n",
    "stack.put(9)\n",
    "print(stack.qsize())\n",
    "print(stack)\n",
    "stack.put(9)\n",
    "print(stack.qsize())\n",
    "print(stack)\n",
    "stack.put(9)\n",
    "print(stack.qsize())\n",
    "print(stack)\n",
    "stack.put(9)\n",
    "print(stack.qsize())\n",
    "print(stack)"
   ]
  },
  {
   "cell_type": "code",
   "execution_count": 10,
   "metadata": {},
   "outputs": [
    {
     "name": "stdout",
     "output_type": "stream",
     "text": [
      "10\n",
      "<queue.LifoQueue object at 0x0000019B8B24C308>\n"
     ]
    }
   ],
   "source": [
    "stack.put_nowait(9)\n",
    "print(stack.qsize())\n",
    "print(stack)"
   ]
  },
  {
   "cell_type": "code",
   "execution_count": null,
   "metadata": {},
   "outputs": [],
   "source": []
  },
  {
   "cell_type": "markdown",
   "metadata": {},
   "source": [
    "### Difference Between queue and collection Stack Operations"
   ]
  },
  {
   "cell_type": "code",
   "execution_count": 145,
   "metadata": {},
   "outputs": [
    {
     "name": "stderr",
     "output_type": "stream",
     "text": [
      "D:\\Anaconda\\lib\\site-packages\\ipykernel_launcher.py:6: DeprecationWarning: time.clock has been deprecated in Python 3.3 and will be removed from Python 3.8: use time.perf_counter or time.process_time instead\n",
      "  \n",
      "D:\\Anaconda\\lib\\site-packages\\ipykernel_launcher.py:11: DeprecationWarning: time.clock has been deprecated in Python 3.3 and will be removed from Python 3.8: use time.perf_counter or time.process_time instead\n",
      "  # This is added back by InteractiveShellApp.init_path()\n",
      "D:\\Anaconda\\lib\\site-packages\\ipykernel_launcher.py:14: DeprecationWarning: time.clock has been deprecated in Python 3.3 and will be removed from Python 3.8: use time.perf_counter or time.process_time instead\n",
      "  \n"
     ]
    },
    {
     "name": "stdout",
     "output_type": "stream",
     "text": [
      "deque from Collections (Inbuild) 0.03209939999942435\n"
     ]
    },
    {
     "name": "stderr",
     "output_type": "stream",
     "text": [
      "D:\\Anaconda\\lib\\site-packages\\ipykernel_launcher.py:19: DeprecationWarning: time.clock has been deprecated in Python 3.3 and will be removed from Python 3.8: use time.perf_counter or time.process_time instead\n",
      "D:\\Anaconda\\lib\\site-packages\\ipykernel_launcher.py:22: DeprecationWarning: time.clock has been deprecated in Python 3.3 and will be removed from Python 3.8: use time.perf_counter or time.process_time instead\n",
      "D:\\Anaconda\\lib\\site-packages\\ipykernel_launcher.py:27: DeprecationWarning: time.clock has been deprecated in Python 3.3 and will be removed from Python 3.8: use time.perf_counter or time.process_time instead\n",
      "D:\\Anaconda\\lib\\site-packages\\ipykernel_launcher.py:29: DeprecationWarning: time.clock has been deprecated in Python 3.3 and will be removed from Python 3.8: use time.perf_counter or time.process_time instead\n"
     ]
    },
    {
     "name": "stdout",
     "output_type": "stream",
     "text": [
      "Queue 0.5781263000008039\n",
      "User Defined Stack _List Based 0.0677838999999949\n",
      "User Defined Stack _List Based 0.3005044999990787\n"
     ]
    },
    {
     "name": "stderr",
     "output_type": "stream",
     "text": [
      "D:\\Anaconda\\lib\\site-packages\\ipykernel_launcher.py:34: DeprecationWarning: time.clock has been deprecated in Python 3.3 and will be removed from Python 3.8: use time.perf_counter or time.process_time instead\n"
     ]
    }
   ],
   "source": [
    "import time\n",
    "import queue\n",
    "import collections\n",
    "\n",
    "q = collections.deque()\n",
    "t0 = time.clock()\n",
    "for i in range(100000):\n",
    "    q.append(1)\n",
    "for i in range(100000):\n",
    "    q.pop()\n",
    "print('deque from Collections (Inbuild)', time.clock() - t0)\n",
    "\n",
    "q = queue.LifoQueue(200000)\n",
    "t0 = time.clock()\n",
    "for i in range(100000):\n",
    "    q.put(1)\n",
    "for i in range(100000):\n",
    "    q.get()\n",
    "print('Queue', time.clock() - t0)\n",
    "\n",
    "q = stack_listBased()\n",
    "t0 = time.clock()\n",
    "for i in range(100000):\n",
    "    q.push(1)\n",
    "for i in range(100000):\n",
    "    q.pop()\n",
    "print('User Defined Stack _List Based', time.clock() - t0)\n",
    "q = Stack_LinkedList()\n",
    "t0 = time.clock()\n",
    "for i in range(100000):\n",
    "    q.push(1)\n",
    "for i in range(100000):\n",
    "    q.pop()\n",
    "print('User Defined Stack _List Based', time.clock() - t0)"
   ]
  },
  {
   "cell_type": "code",
   "execution_count": null,
   "metadata": {},
   "outputs": [],
   "source": []
  },
  {
   "cell_type": "code",
   "execution_count": 15,
   "metadata": {},
   "outputs": [
    {
     "name": "stdout",
     "output_type": "stream",
     "text": [
      "[1, 2]\n"
     ]
    }
   ],
   "source": []
  },
  {
   "cell_type": "code",
   "execution_count": null,
   "metadata": {},
   "outputs": [],
   "source": []
  },
  {
   "cell_type": "markdown",
   "metadata": {},
   "source": [
    "### Postfix Evaluation"
   ]
  },
  {
   "cell_type": "code",
   "execution_count": 187,
   "metadata": {},
   "outputs": [],
   "source": [
    "stack = stack_listBased()"
   ]
  },
  {
   "cell_type": "code",
   "execution_count": 188,
   "metadata": {},
   "outputs": [
    {
     "name": "stdout",
     "output_type": "stream",
     "text": [
      "5.54 µs ± 124 ns per loop (mean ± std. dev. of 7 runs, 10000 loops each)\n"
     ]
    }
   ],
   "source": [
    "%%timeit -n 10000\n",
    "PE=[4,5,6,'*','+',3,'-']\n",
    "for i in PE:\n",
    "    if i != '*' and i!= '/' and i!='+' and i!='-':\n",
    "        #stack.append(i)\n",
    "        stack.push(i)\n",
    "    else:\n",
    "        x1=stack.pop()\n",
    "        x2=stack.pop()\n",
    "        if i=='*':\n",
    "            #stack.append(x1 * x2)\n",
    "            stack.push(x1 * x2)\n",
    "        if i=='/':\n",
    "            #stack.append(x1 / x2)\n",
    "            stack.push(x1 / x2)\n",
    "        if i=='+':\n",
    "            #stack.append(x1 + x2)\n",
    "            stack.push(x1 + x2)\n",
    "        if i=='-':\n",
    "            #stack.append(x2 - x1)\n",
    "            stack.push(x2 - x1)\n",
    "    #print(stack)\n",
    "#result=stack.pop()\n",
    "#print(\"After Evaluation of given postfix expression:\\t\",result)\n"
   ]
  },
  {
   "cell_type": "code",
   "execution_count": 189,
   "metadata": {},
   "outputs": [],
   "source": [
    "stack=Stack_LinkedList()"
   ]
  },
  {
   "cell_type": "code",
   "execution_count": 190,
   "metadata": {},
   "outputs": [
    {
     "name": "stdout",
     "output_type": "stream",
     "text": [
      "10.7 µs ± 426 ns per loop (mean ± std. dev. of 7 runs, 10000 loops each)\n"
     ]
    }
   ],
   "source": [
    "%%timeit -n 10000\n",
    "PE=[4,5,6,'*','+',3,'-']\n",
    "for i in PE:\n",
    "    if i != '*' and i!= '/' and i!='+' and i!='-':\n",
    "        #stack.append(i)\n",
    "        stack.push(i)\n",
    "    else:\n",
    "        x1=stack.pop()\n",
    "        x2=stack.pop()\n",
    "        if i=='*':\n",
    "            #stack.append(x1 * x2)\n",
    "            stack.push(x1 * x2)\n",
    "        if i=='/':\n",
    "            #stack.append(x1 / x2)\n",
    "            stack.push(x1 / x2)\n",
    "        if i=='+':\n",
    "            #stack.append(x1 + x2)\n",
    "            stack.push(x1 + x2)\n",
    "        if i=='-':\n",
    "            #stack.append(x2 - x1)\n",
    "            stack.push(x2 - x1)\n",
    "    #print(stack)\n",
    "#result=stack.pop()\n",
    "#print(\"After Evaluation of given postfix expression:\\t\",result)\n",
    "\n",
    "    "
   ]
  },
  {
   "cell_type": "code",
   "execution_count": 191,
   "metadata": {},
   "outputs": [],
   "source": [
    "stack=deque()"
   ]
  },
  {
   "cell_type": "code",
   "execution_count": 192,
   "metadata": {},
   "outputs": [
    {
     "name": "stdout",
     "output_type": "stream",
     "text": [
      "3.01 µs ± 76.2 ns per loop (mean ± std. dev. of 7 runs, 10000 loops each)\n"
     ]
    }
   ],
   "source": [
    "%%timeit -n 10000\n",
    "PE=[4,5,6,'*','+',3,'-']\n",
    "for i in PE:\n",
    "    if i != '*' and i!= '/' and i!='+' and i!='-':\n",
    "        #stack.append(i)\n",
    "        stack.append(i)\n",
    "    else:\n",
    "        x1=stack.pop()\n",
    "        x2=stack.pop()\n",
    "        if i=='*':\n",
    "            #stack.append(x1 * x2)\n",
    "            stack.append(x1 * x2)\n",
    "        if i=='/':\n",
    "            #stack.append(x1 / x2)\n",
    "            stack.append(x1 / x2)\n",
    "        if i=='+':\n",
    "            #stack.append(x1 + x2)\n",
    "            stack.append(x1 + x2)\n",
    "        if i=='-':\n",
    "            #stack.append(x2 - x1)\n",
    "            stack.append(x2 - x1)\n",
    "    #print(stack)\n",
    "#result=stack.pop()\n",
    "#print(\"After Evaluation of given postfix expression:\\t\",result)\n"
   ]
  },
  {
   "cell_type": "code",
   "execution_count": 193,
   "metadata": {},
   "outputs": [],
   "source": [
    "stack=LifoQueue()"
   ]
  },
  {
   "cell_type": "code",
   "execution_count": 194,
   "metadata": {},
   "outputs": [
    {
     "name": "stdout",
     "output_type": "stream",
     "text": [
      "36.7 µs ± 143 ns per loop (mean ± std. dev. of 7 runs, 10000 loops each)\n"
     ]
    }
   ],
   "source": [
    "%%timeit -n 10000\n",
    "PE=[4,5,6,'*','+',3,'-']\n",
    "for i in PE:\n",
    "    if i != '*' and i!= '/' and i!='+' and i!='-':\n",
    "        #stack.append(i)\n",
    "        stack.put(i)\n",
    "    else:\n",
    "        x1=stack.get()\n",
    "        x2=stack.get()\n",
    "        if i=='*':\n",
    "            #stack.append(x1 * x2)\n",
    "            stack.put(x1 * x2)\n",
    "        if i=='/':\n",
    "            #stack.append(x1 / x2)\n",
    "            stack.put(x1 / x2)\n",
    "        if i=='+':\n",
    "            #stack.append(x1 + x2)\n",
    "            stack.put(x1 + x2)\n",
    "        if i=='-':\n",
    "            #stack.append(x2 - x1)\n",
    "            stack.put(x2 - x1)\n",
    "    #print(stack)\n",
    "#result=stack.get()\n",
    "#print(\"After Evaluation of given postfix expression:\\t\",result)\n"
   ]
  },
  {
   "cell_type": "code",
   "execution_count": null,
   "metadata": {},
   "outputs": [],
   "source": []
  }
 ],
 "metadata": {
  "kernelspec": {
   "display_name": "Python 3",
   "language": "python",
   "name": "python3"
  },
  "language_info": {
   "codemirror_mode": {
    "name": "ipython",
    "version": 3
   },
   "file_extension": ".py",
   "mimetype": "text/x-python",
   "name": "python",
   "nbconvert_exporter": "python",
   "pygments_lexer": "ipython3",
   "version": "3.7.4"
  },
  "widgets": {
   "application/vnd.jupyter.widget-state+json": {
    "state": {},
    "version_major": 2,
    "version_minor": 0
   }
  }
 },
 "nbformat": 4,
 "nbformat_minor": 2
}
