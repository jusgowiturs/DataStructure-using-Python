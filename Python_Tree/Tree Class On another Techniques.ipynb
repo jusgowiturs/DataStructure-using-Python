{
 "cells": [
  {
   "cell_type": "code",
   "execution_count": 13,
   "metadata": {},
   "outputs": [],
   "source": [
    "class Node(object):\n",
    "    def __init__(self, data=None):\n",
    "        self.data = data\n",
    "        self.leftChild = None\n",
    "        self.rightChild = None"
   ]
  },
  {
   "cell_type": "code",
   "execution_count": 58,
   "metadata": {},
   "outputs": [],
   "source": [
    "class Tree(object):\n",
    "    def __init__(self):\n",
    "        \n",
    "        \n",
    "        #To Set Root Node with None value \n",
    "        # This None value is used for Traversal\n",
    "        self.root=Node()\n",
    "    def insert(self,data,current_node):\n",
    "        #print(\"Tree Data Contains\\n\")\n",
    "        if current_node.data!=None:\n",
    "            print(current_node)\n",
    "                #self._insert(data,self.root)\n",
    "            if data < current_node.data:\n",
    "                print(current_node.data)\n",
    "                if current_node.leftChild ==None:\n",
    "                    current_node.leftChild = Node(data)\n",
    "                else:\n",
    "                    self._insert(data,current_node.leftChild)\n",
    "            elif data > current_node.data:\n",
    "                print(current_node.data)\n",
    "                if current_node.rightChild ==None:\n",
    "                    current_node.rightChild = Node(data)\n",
    "                else:\n",
    "                    self._insert(data,current_node.rightChild)\n",
    "            else:\n",
    "                print(\"\\nData is Already in the tree\\n\")\n",
    "        else:\n",
    "            self.root = Node(data)"
   ]
  },
  {
   "cell_type": "code",
   "execution_count": 73,
   "metadata": {},
   "outputs": [
    {
     "name": "stdout",
     "output_type": "stream",
     "text": [
      "<__main__.Tree object at 0x000001B7A2A5E5C8>\n"
     ]
    }
   ],
   "source": [
    "T=Tree()\n",
    "rootAddress=T.root\n",
    "\n",
    "print(T)"
   ]
  },
  {
   "cell_type": "code",
   "execution_count": 74,
   "metadata": {},
   "outputs": [],
   "source": [
    "T.insert(10,rootAddress)"
   ]
  },
  {
   "cell_type": "code",
   "execution_count": 75,
   "metadata": {},
   "outputs": [
    {
     "data": {
      "text/plain": [
       "10"
      ]
     },
     "execution_count": 75,
     "metadata": {},
     "output_type": "execute_result"
    }
   ],
   "source": [
    "T.root.data"
   ]
  },
  {
   "cell_type": "code",
   "execution_count": 78,
   "metadata": {},
   "outputs": [
    {
     "name": "stdout",
     "output_type": "stream",
     "text": [
      "20 None None\n",
      "None None None\n"
     ]
    }
   ],
   "source": [
    "T.insert(20,rootAddress)\n",
    "print(T.root.data,T.root.leftChild,T.root.rightChild)\n",
    "print(rootAddress.data,rootAddress.leftChild,rootAddress.rightChild)"
   ]
  },
  {
   "cell_type": "code",
   "execution_count": 81,
   "metadata": {},
   "outputs": [],
   "source": [
    "#T.insert(5,T.root)\n",
    "T.insert(5,rootAddress)"
   ]
  },
  {
   "cell_type": "code",
   "execution_count": 83,
   "metadata": {},
   "outputs": [
    {
     "data": {
      "text/plain": [
       "<__main__.Node at 0x1b7a343c6c8>"
      ]
     },
     "execution_count": 83,
     "metadata": {},
     "output_type": "execute_result"
    }
   ],
   "source": [
    "#T.root.data\n"
   ]
  },
  {
   "cell_type": "code",
   "execution_count": 65,
   "metadata": {},
   "outputs": [
    {
     "data": {
      "text/plain": [
       "5"
      ]
     },
     "execution_count": 65,
     "metadata": {},
     "output_type": "execute_result"
    }
   ],
   "source": [
    "T.root.leftChild.data"
   ]
  },
  {
   "cell_type": "code",
   "execution_count": 66,
   "metadata": {},
   "outputs": [
    {
     "data": {
      "text/plain": [
       "20"
      ]
     },
     "execution_count": 66,
     "metadata": {},
     "output_type": "execute_result"
    }
   ],
   "source": [
    "T.root.rightChild.data\n"
   ]
  },
  {
   "cell_type": "code",
   "execution_count": 67,
   "metadata": {},
   "outputs": [
    {
     "data": {
      "text/plain": [
       "True"
      ]
     },
     "execution_count": 67,
     "metadata": {},
     "output_type": "execute_result"
    }
   ],
   "source": [
    "T.root.rightChild.rightChild==None"
   ]
  },
  {
   "cell_type": "code",
   "execution_count": null,
   "metadata": {},
   "outputs": [],
   "source": []
  }
 ],
 "metadata": {
  "kernelspec": {
   "display_name": "Python 3",
   "language": "python",
   "name": "python3"
  },
  "language_info": {
   "codemirror_mode": {
    "name": "ipython",
    "version": 3
   },
   "file_extension": ".py",
   "mimetype": "text/x-python",
   "name": "python",
   "nbconvert_exporter": "python",
   "pygments_lexer": "ipython3",
   "version": "3.7.4"
  }
 },
 "nbformat": 4,
 "nbformat_minor": 2
}
