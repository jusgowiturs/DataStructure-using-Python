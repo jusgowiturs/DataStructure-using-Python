{
 "cells": [
  {
   "cell_type": "code",
   "execution_count": 3,
   "metadata": {},
   "outputs": [],
   "source": [
    "class Node(object):\n",
    "    def __init__(self, data):\n",
    "        self.data = data\n",
    "        self.leftChild = None\n",
    "        self.rightChild = None\n",
    "class Tree(object):\n",
    "    def __init__(self):\n",
    "        self.root=None\n",
    "\n",
    "    def insert(self, data,Current_Address):\n",
    "        ''' For inserting the data in the Tree '''\n",
    "        if Current_Address==None:\n",
    "            print(Current_Address)\n",
    "            if Current_Address.data == data:\n",
    "                print(\"No Dublicate is applicable\")        # As BST cannot contain duplicate data\n",
    "\n",
    "            elif data < Current_Address.data:\n",
    "                ''' Data less than the root data is placed to the left of the root '''\n",
    "                if Current_Address.leftChild:\n",
    "                    self.leftChild.insert(data,Current_Address.leftChild)\n",
    "                else:\n",
    "                    self.leftChild = Node(data)\n",
    "                    \n",
    "            else:\n",
    "                ''' Data greater than the root data is placed to the right of the root '''\n",
    "                if Current_Address.rightChild:\n",
    "                    self.rightChild.insert(data,Current_Address.rightChild)\n",
    "                else:\n",
    "                    self.rightChild = Node(data)\n",
    "                    \n",
    "        else:\n",
    "            print(\"New Node Created\")\n",
    "            self.root=Node(data)\n",
    "            print(\"New Node Created Address \",id(self.root))\n",
    "            print(self.root.data)\n",
    "            \n",
    "            #Current_Address.insert(data,self.root)"
   ]
  },
  {
   "cell_type": "code",
   "execution_count": 4,
   "metadata": {},
   "outputs": [
    {
     "name": "stdout",
     "output_type": "stream",
     "text": [
      "<__main__.Tree object at 0x00000212D078E088>\n",
      "None\n",
      "2279830249608\n",
      "New Node Created\n",
      "New Node Created Address  2279830249992\n",
      "10\n",
      "2279830249608\n"
     ]
    }
   ],
   "source": [
    "T=Tree()\n",
    "print(T)\n",
    "print(T.root)\n",
    "print(id(T))\n",
    "T.insert(10,T)\n",
    "print(id(T))\n"
   ]
  },
  {
   "cell_type": "code",
   "execution_count": 6,
   "metadata": {},
   "outputs": [
    {
     "name": "stdout",
     "output_type": "stream",
     "text": [
      "New Node Created\n",
      "New Node Created Address  2279830273544\n",
      "10\n",
      "New Node Created\n",
      "New Node Created Address  2279830273352\n",
      "5\n",
      "New Node Created\n",
      "New Node Created Address  2279830273736\n",
      "15\n",
      "New Node Created\n",
      "New Node Created Address  2279830273800\n",
      "7\n",
      "New Node Created\n",
      "New Node Created Address  2279830273928\n",
      "17\n",
      "New Node Created\n",
      "New Node Created Address  2279830237256\n",
      "12\n",
      "New Node Created\n",
      "New Node Created Address  2279830237384\n",
      "1\n",
      "1\n",
      "None\n",
      "None\n"
     ]
    }
   ],
   "source": [
    "T.insert(10,T)\n",
    "T.insert(5,T)\n",
    "T.insert(15,T)\n",
    "T.insert(7,T)\n",
    "T.insert(17,T)\n",
    "T.insert(12,T)\n",
    "T.insert(1,T)\n",
    "print(T.root.data)\n",
    "print(T.root.leftChild)\n",
    "print(T.root.rightChild)"
   ]
  },
  {
   "cell_type": "code",
   "execution_count": 7,
   "metadata": {},
   "outputs": [
    {
     "name": "stdout",
     "output_type": "stream",
     "text": [
      "New Node Created\n",
      "New Node Created Address  2279830167816\n",
      "15\n"
     ]
    }
   ],
   "source": [
    "T.insert(15,T)"
   ]
  },
  {
   "cell_type": "code",
   "execution_count": null,
   "metadata": {},
   "outputs": [],
   "source": []
  },
  {
   "cell_type": "code",
   "execution_count": null,
   "metadata": {},
   "outputs": [],
   "source": []
  },
  {
   "cell_type": "code",
   "execution_count": 28,
   "metadata": {},
   "outputs": [
    {
     "ename": "AttributeError",
     "evalue": "'Node' object has no attribute 'insert'",
     "output_type": "error",
     "traceback": [
      "\u001b[1;31m---------------------------------------------------------------------------\u001b[0m",
      "\u001b[1;31mAttributeError\u001b[0m                            Traceback (most recent call last)",
      "\u001b[1;32m<ipython-input-28-d598643c86b5>\u001b[0m in \u001b[0;36m<module>\u001b[1;34m\u001b[0m\n\u001b[0;32m     47\u001b[0m     \u001b[0mtree\u001b[0m \u001b[1;33m=\u001b[0m \u001b[0mTree\u001b[0m\u001b[1;33m(\u001b[0m\u001b[1;33m)\u001b[0m\u001b[1;33m\u001b[0m\u001b[1;33m\u001b[0m\u001b[0m\n\u001b[0;32m     48\u001b[0m     \u001b[0mtree\u001b[0m\u001b[1;33m.\u001b[0m\u001b[0minsert\u001b[0m\u001b[1;33m(\u001b[0m\u001b[1;36m10\u001b[0m\u001b[1;33m)\u001b[0m\u001b[1;33m\u001b[0m\u001b[1;33m\u001b[0m\u001b[0m\n\u001b[1;32m---> 49\u001b[1;33m     \u001b[0mtree\u001b[0m\u001b[1;33m.\u001b[0m\u001b[0minsert\u001b[0m\u001b[1;33m(\u001b[0m\u001b[1;36m12\u001b[0m\u001b[1;33m)\u001b[0m\u001b[1;33m\u001b[0m\u001b[1;33m\u001b[0m\u001b[0m\n\u001b[0m\u001b[0;32m     50\u001b[0m     \u001b[0mtree\u001b[0m\u001b[1;33m.\u001b[0m\u001b[0minsert\u001b[0m\u001b[1;33m(\u001b[0m\u001b[1;36m5\u001b[0m\u001b[1;33m)\u001b[0m\u001b[1;33m\u001b[0m\u001b[1;33m\u001b[0m\u001b[0m\n\u001b[0;32m     51\u001b[0m     \u001b[0mtree\u001b[0m\u001b[1;33m.\u001b[0m\u001b[0minsert\u001b[0m\u001b[1;33m(\u001b[0m\u001b[1;36m4\u001b[0m\u001b[1;33m)\u001b[0m\u001b[1;33m\u001b[0m\u001b[1;33m\u001b[0m\u001b[0m\n",
      "\u001b[1;32m<ipython-input-28-d598643c86b5>\u001b[0m in \u001b[0;36minsert\u001b[1;34m(self, data)\u001b[0m\n\u001b[0;32m     11\u001b[0m     \u001b[1;32mdef\u001b[0m \u001b[0minsert\u001b[0m\u001b[1;33m(\u001b[0m\u001b[0mself\u001b[0m\u001b[1;33m,\u001b[0m \u001b[0mdata\u001b[0m\u001b[1;33m)\u001b[0m\u001b[1;33m:\u001b[0m\u001b[1;33m\u001b[0m\u001b[1;33m\u001b[0m\u001b[0m\n\u001b[0;32m     12\u001b[0m         \u001b[1;32mif\u001b[0m \u001b[0mself\u001b[0m\u001b[1;33m.\u001b[0m\u001b[0mroot\u001b[0m\u001b[1;33m:\u001b[0m\u001b[1;33m\u001b[0m\u001b[1;33m\u001b[0m\u001b[0m\n\u001b[1;32m---> 13\u001b[1;33m             \u001b[1;32mreturn\u001b[0m \u001b[0mself\u001b[0m\u001b[1;33m.\u001b[0m\u001b[0mroot\u001b[0m\u001b[1;33m.\u001b[0m\u001b[0minsert\u001b[0m\u001b[1;33m(\u001b[0m\u001b[0mdata\u001b[0m\u001b[1;33m)\u001b[0m\u001b[1;33m\u001b[0m\u001b[1;33m\u001b[0m\u001b[0m\n\u001b[0m\u001b[0;32m     14\u001b[0m         \u001b[1;32melse\u001b[0m\u001b[1;33m:\u001b[0m\u001b[1;33m\u001b[0m\u001b[1;33m\u001b[0m\u001b[0m\n\u001b[0;32m     15\u001b[0m             \u001b[0mself\u001b[0m\u001b[1;33m.\u001b[0m\u001b[0mroot\u001b[0m \u001b[1;33m=\u001b[0m \u001b[0mNode\u001b[0m\u001b[1;33m(\u001b[0m\u001b[0mdata\u001b[0m\u001b[1;33m)\u001b[0m\u001b[1;33m\u001b[0m\u001b[1;33m\u001b[0m\u001b[0m\n",
      "\u001b[1;31mAttributeError\u001b[0m: 'Node' object has no attribute 'insert'"
     ]
    }
   ],
   "source": [
    "class Node(object):\n",
    "    def __init__(self, data):\n",
    "        self.data = data\n",
    "        self.leftChild = None\n",
    "        self.rightChild = None\n",
    "\n",
    "class Tree(object):\n",
    "    def __init__(self):\n",
    "        self.root = None\n",
    "\n",
    "    def insert(self, data):\n",
    "        if self.root:\n",
    "            return self.root.insert(data)\n",
    "        else:\n",
    "            self.root = Node(data)\n",
    "            return True\n",
    "\n",
    "    def delete(self, data):\n",
    "        if self.root is not None:\n",
    "            return self.root.delete(data)\n",
    "\n",
    "    def find(self, data):\n",
    "        if self.root:\n",
    "            return self.root.find(data)\n",
    "        else:\n",
    "            return False\n",
    "\n",
    "    def preorder(self):\n",
    "        if self.root is not None:\n",
    "            print()\n",
    "            print('Preorder: ')\n",
    "            self.root.preorder()\n",
    "\n",
    "    def inorder(self):\n",
    "        print()\n",
    "        if self.root is not None:\n",
    "            print('Inorder: ')\n",
    "            self.root.inorder()\n",
    "\n",
    "    def postorder(self):\n",
    "        print()\n",
    "        if self.root is not None:\n",
    "            print('Postorder: ')\n",
    "            self.root.postorder()\n",
    "\n",
    "if __name__ == '__main__':\n",
    "    tree = Tree()\n",
    "    tree.insert(10)\n",
    "    tree.insert(12)\n",
    "    tree.insert(5)\n",
    "    tree.insert(4)\n",
    "    tree.insert(20)\n",
    "    tree.insert(8)\n",
    "    tree.insert(7)\n",
    "    tree.insert(15)\n",
    "    tree.insert(13)\n",
    "    print(tree.find(1))\n",
    "    print(tree.find(12))\n",
    "    ''' Following tree is getting created:\n",
    "                    10\n",
    "                 /      \\\n",
    "               5         12\n",
    "              / \\           \\\n",
    "            4     8          20\n",
    "                 /          /\n",
    "                7         15\n",
    "                         /\n",
    "                       13\n",
    "    '''\n",
    "\n",
    "    tree.preorder()\n",
    "    tree.inorder()\n",
    "    tree.postorder()\n",
    "    print('\\n\\nAfter deleting 20')\n",
    "    tree.delete(20)\n",
    "    tree.inorder()\n",
    "    tree.preorder()\n",
    "    print('\\n\\nAfter deleting 10')\n",
    "    tree.delete(10)\n",
    "    tree.inorder()\n",
    "    tree.preorder()"
   ]
  },
  {
   "cell_type": "code",
   "execution_count": 29,
   "metadata": {},
   "outputs": [
    {
     "name": "stdout",
     "output_type": "stream",
     "text": [
      "<__main__.Node object at 0x00000156FA1ACD88>\n",
      "<__main__.Node object at 0x00000156FA1ACD88>\n",
      "<__main__.Node object at 0x00000156FA1ACD88>\n",
      "<__main__.Node object at 0x00000156FA1ACD88>\n",
      "<__main__.Node object at 0x00000156FA1ACD88>\n",
      "<__main__.Node object at 0x00000156FA1ACD88>\n",
      "\n",
      "Minimum value in BST is 1\n"
     ]
    }
   ],
   "source": [
    "# A binary tree node \n",
    "class Node: \n",
    "  \n",
    "    # Constructor to create a new node \n",
    "    def __init__(self, key): \n",
    "        self.data = key \n",
    "        self.left = None\n",
    "        self.right = None\n",
    "  \n",
    "\"\"\" Give a binary search tree and a number,  \n",
    "inserts a new node with the given number in  \n",
    "the correct place in the tree. Returns the new  \n",
    "root pointer which the caller should then use  \n",
    "(the standard trick to avoid using reference  \n",
    "parameters). \"\"\"\n",
    "def insert(node, data): \n",
    "  \n",
    "    # 1. If the tree is empty, return a new, \n",
    "    # single node \n",
    "    if node is None: \n",
    "        return (Node(data)) \n",
    "  \n",
    "    else: \n",
    "        # 2. Otherwise, recur down the tree \n",
    "        if data <= node.data: \n",
    "            node.left = insert(node.left, data) \n",
    "        else: \n",
    "            node.right = insert(node.right, data) \n",
    "  \n",
    "        # Return the (unchanged) node pointer \n",
    "        return node \n",
    "  \n",
    "\"\"\" Given a non-empty binary search tree,   \n",
    "return the minimum data value found in that  \n",
    "tree. Note that the entire tree does not need  \n",
    "to be searched. \"\"\"\n",
    "def minValue(node): \n",
    "    current = node \n",
    "  \n",
    "    # loop down to find the lefmost leaf \n",
    "    while(current.left is not None): \n",
    "        current = current.left \n",
    "  \n",
    "    return current.data \n",
    "  \n",
    "# Driver program \n",
    "root = None\n",
    "root = insert(root,4) \n",
    "print(root)\n",
    "insert(root,2) \n",
    "print(root)\n",
    "insert(root,1) \n",
    "print(root)\n",
    "insert(root,3) \n",
    "print(root)\n",
    "insert(root,6) \n",
    "print(root)\n",
    "insert(root,5) \n",
    "print(root)\n",
    "  \n",
    "print(\"\\nMinimum value in BST is %d\"  %(minValue(root)) )\n",
    "  \n"
   ]
  },
  {
   "cell_type": "code",
   "execution_count": 30,
   "metadata": {},
   "outputs": [
    {
     "name": "stdout",
     "output_type": "stream",
     "text": [
      "<__main__.Node object at 0x00000156FA1ACD88>\n"
     ]
    }
   ],
   "source": [
    "print(root)"
   ]
  },
  {
   "cell_type": "code",
   "execution_count": 28,
   "metadata": {},
   "outputs": [],
   "source": [
    "\n",
    "# A Python class that represents an individual node  \n",
    "# in a Binary Tree \n",
    "class Node: \n",
    "    def __init__(self,key): \n",
    "        self.left = None\n",
    "        self.right = None\n",
    "        self.val = key \n",
    "    def insert(self,Data):\n",
    "        if self.val== Data:\n",
    "            return False\n",
    "        elif self.val< Data:\n",
    "            self.right = Node(Data)\n",
    "            self=self.right\n",
    "        else:\n",
    "            self.left = Node(Data)\n",
    "            self=self.left\n"
   ]
  },
  {
   "cell_type": "markdown",
   "metadata": {},
   "source": [
    "#### Let us create a simple tree with 4 nodes in Python. The created tree would be as following.#### "
   ]
  },
  {
   "cell_type": "code",
   "execution_count": 29,
   "metadata": {},
   "outputs": [
    {
     "name": "stdout",
     "output_type": "stream",
     "text": [
      "None\n",
      "None\n"
     ]
    }
   ],
   "source": [
    "#Create Root\n",
    "root = Node(1)\n",
    "print(root.left)\n",
    "print(root.right)"
   ]
  },
  {
   "cell_type": "code",
   "execution_count": 35,
   "metadata": {},
   "outputs": [],
   "source": [
    "root.insert(6)\n",
    "root.insert(10)"
   ]
  },
  {
   "cell_type": "code",
   "execution_count": 36,
   "metadata": {},
   "outputs": [
    {
     "name": "stdout",
     "output_type": "stream",
     "text": [
      "1\n",
      "-1\n",
      "10\n",
      "None\n",
      "None\n"
     ]
    }
   ],
   "source": [
    "print(root.val)\n",
    "print(root.left.val)\n",
    "print(root.right.val)\n",
    "print(root.left.left)\n",
    "print(root.right.right)"
   ]
  },
  {
   "cell_type": "code",
   "execution_count": 34,
   "metadata": {},
   "outputs": [
    {
     "name": "stdout",
     "output_type": "stream",
     "text": [
      "13\n"
     ]
    }
   ],
   "source": [
    "listofElements = [10,2,3,6,23,4,15,21,9,8,7,16,5]\n",
    "NumofNodes= len(listofElements)\n",
    "print(NumofNodes)"
   ]
  },
  {
   "cell_type": "code",
   "execution_count": 48,
   "metadata": {},
   "outputs": [
    {
     "name": "stdout",
     "output_type": "stream",
     "text": [
      "Insert Block\t 2469126736904\n",
      "Left New\n",
      "count\t 1\n",
      "Insert Block\t 2469126736904\n",
      "count\t 2\n",
      "Insert Block\t 2469126736968\n",
      "Left New\n",
      "count\t 3\n",
      "count\t 2\n",
      "Left Insert\n",
      "20\n",
      "30\n",
      "50\n"
     ]
    }
   ],
   "source": [
    "# A utility function to insert a new node with the given key \n",
    "count =0\n",
    "def insert(root,node):\n",
    "    global count\n",
    "    print(\"Insert Block\\t\",id(root))\n",
    "    if root is None: \n",
    "        root = node \n",
    "        count+=1\n",
    "        print(\"count\\t\",count)\n",
    "    else: \n",
    "        if root.val < node.val: \n",
    "            if root.right is None: \n",
    "                root.right = node\n",
    "                print(\"Right New\")\n",
    "                count+=1\n",
    "                print(\"count\\t\",count)\n",
    "            else: \n",
    "                count+=1\n",
    "                print(\"count\\t\",count)\n",
    "                insert(root.right, node) \n",
    "                count-=1\n",
    "                print(\"count\\t\",count)\n",
    "                print(\"Right Insert\")\n",
    "        else: \n",
    "            if root.left is None: \n",
    "                root.left = node \n",
    "                print(\"Left New\")\n",
    "                count+=1\n",
    "                print(\"count\\t\",count)\n",
    "            else: \n",
    "                count+=1\n",
    "                print(\"count\\t\",count)\n",
    "                insert(root.left, node) \n",
    "                count-=1\n",
    "                print(\"count\\t\",count)\n",
    "                print(\"Left Insert\")\n",
    "  \n",
    "# A utility function to do inorder tree traversal \n",
    "def inorder(root): \n",
    "    if root: \n",
    "        inorder(root.left) \n",
    "        print(root.val) \n",
    "        inorder(root.right) \n",
    "  \n",
    "  \n",
    "# Driver program to test the above functions \n",
    "# Let us create the following BST \n",
    "#      50 \n",
    "#    /      \\ \n",
    "#   30     70 \n",
    "#   / \\    / \\ \n",
    "#  20 40  60 80 \n",
    "r = Node(50) \n",
    "insert(r,Node(30)) \n",
    "insert(r,Node(20)) \n",
    "#insert(r,Node(40)) \n",
    "#insert(r,Node(70)) \n",
    "#insert(r,Node(60)) \n",
    "#insert(r,Node(80)) \n",
    "  \n",
    "# Print inoder traversal of the BST \n",
    "inorder(r) "
   ]
  },
  {
   "cell_type": "code",
   "execution_count": 2,
   "metadata": {},
   "outputs": [
    {
     "name": "stdout",
     "output_type": "stream",
     "text": [
      "Else\n"
     ]
    }
   ],
   "source": [
    "if None:\n",
    "    print(\"None\")\n",
    "else:\n",
    "    print(\"Else\")"
   ]
  },
  {
   "cell_type": "code",
   "execution_count": null,
   "metadata": {},
   "outputs": [],
   "source": []
  }
 ],
 "metadata": {
  "kernelspec": {
   "display_name": "Python 3",
   "language": "python",
   "name": "python3"
  },
  "language_info": {
   "codemirror_mode": {
    "name": "ipython",
    "version": 3
   },
   "file_extension": ".py",
   "mimetype": "text/x-python",
   "name": "python",
   "nbconvert_exporter": "python",
   "pygments_lexer": "ipython3",
   "version": "3.7.4"
  }
 },
 "nbformat": 4,
 "nbformat_minor": 2
}
