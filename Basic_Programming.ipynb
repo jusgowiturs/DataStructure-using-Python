{
  "nbformat": 4,
  "nbformat_minor": 0,
  "metadata": {
    "colab": {
      "name": "Basic Programming.ipynb",
      "provenance": [],
      "authorship_tag": "ABX9TyPMukSXG+LZSvIW+nVtZBd5",
      "include_colab_link": true
    },
    "kernelspec": {
      "name": "python3",
      "display_name": "Python 3"
    },
    "accelerator": "GPU"
  },
  "cells": [
    {
      "cell_type": "markdown",
      "metadata": {
        "id": "view-in-github",
        "colab_type": "text"
      },
      "source": [
        "<a href=\"https://colab.research.google.com/github/jusgowiturs/DataStructure-using-Python/blob/main/Basic_Programming.ipynb\" target=\"_parent\"><img src=\"https://colab.research.google.com/assets/colab-badge.svg\" alt=\"Open In Colab\"/></a>"
      ]
    },
    {
      "cell_type": "code",
      "metadata": {
        "id": "CuQLmJBYaUnh",
        "colab": {
          "base_uri": "https://localhost:8080/",
          "height": 34
        },
        "outputId": "380667bd-9d4c-4d43-f0d6-c9cdfc6f1489"
      },
      "source": [
        "print(\"Hello World\")"
      ],
      "execution_count": null,
      "outputs": [
        {
          "output_type": "stream",
          "text": [
            "Hello World\n"
          ],
          "name": "stdout"
        }
      ]
    },
    {
      "cell_type": "code",
      "metadata": {
        "id": "asM8Jb9DayJr"
      },
      "source": [
        "import nltk"
      ],
      "execution_count": null,
      "outputs": []
    },
    {
      "cell_type": "code",
      "metadata": {
        "id": "QE6m4X6Aa-2q"
      },
      "source": [
        "String1 = \"Hello world , THis is my first programm. This is second Sentence\""
      ],
      "execution_count": null,
      "outputs": []
    },
    {
      "cell_type": "code",
      "metadata": {
        "id": "Tjqs9O75bBG5",
        "colab": {
          "base_uri": "https://localhost:8080/",
          "height": 67
        },
        "outputId": "9e23faff-8cb5-4379-9eab-6472334ab76e"
      },
      "source": [
        "from nltk import sent_tokenize,word_tokenize\n",
        "nltk.download('punkt')"
      ],
      "execution_count": null,
      "outputs": [
        {
          "output_type": "stream",
          "text": [
            "[nltk_data] Downloading package punkt to /root/nltk_data...\n",
            "[nltk_data]   Package punkt is already up-to-date!\n"
          ],
          "name": "stdout"
        },
        {
          "output_type": "execute_result",
          "data": {
            "text/plain": [
              "True"
            ]
          },
          "metadata": {
            "tags": []
          },
          "execution_count": 14
        }
      ]
    },
    {
      "cell_type": "code",
      "metadata": {
        "id": "pMqBwHPec-dg",
        "colab": {
          "base_uri": "https://localhost:8080/",
          "height": 34
        },
        "outputId": "b8b8e727-1683-49dc-8ba2-426ca3b9da72"
      },
      "source": [
        "print(word_tokenize(String1))"
      ],
      "execution_count": null,
      "outputs": [
        {
          "output_type": "stream",
          "text": [
            "['Hello', 'world', ',', 'THis', 'is', 'my', 'first', 'programm']\n"
          ],
          "name": "stdout"
        }
      ]
    },
    {
      "cell_type": "code",
      "metadata": {
        "id": "AkxnoSKCdGjD",
        "colab": {
          "base_uri": "https://localhost:8080/",
          "height": 34
        },
        "outputId": "cdecdf33-4766-4169-948a-00b1ed19a88b"
      },
      "source": [
        "print(sent_tokenize(String1))"
      ],
      "execution_count": null,
      "outputs": [
        {
          "output_type": "stream",
          "text": [
            "['Hello world , THis is my first programm.', 'This is second Sentence']\n"
          ],
          "name": "stdout"
        }
      ]
    },
    {
      "cell_type": "markdown",
      "metadata": {
        "id": "chZoKvs9QrRq"
      },
      "source": [
        "# Numpy Examples"
      ]
    },
    {
      "cell_type": "code",
      "metadata": {
        "id": "8X-_h1mXdWls",
        "colab": {
          "base_uri": "https://localhost:8080/"
        },
        "outputId": "f986ff9e-f123-41d0-ad24-c6267dff68f9"
      },
      "source": [
        "import numpy as np\n",
        "def angle_between(v1, v2):\n",
        "    dot_pr = v1.dot(v2)\n",
        "    norms = np.linalg.norm(v1) * np.linalg.norm(v2)\n",
        " \n",
        "    return np.rad2deg(np.arccos(dot_pr / norms))\n",
        "v = np.array([1, 4])\n",
        "u = np.array([-4, 1])\n",
        "print(angle_between(v, u))"
      ],
      "execution_count": null,
      "outputs": [
        {
          "output_type": "stream",
          "text": [
            "90.0\n"
          ],
          "name": "stdout"
        }
      ]
    },
    {
      "cell_type": "code",
      "metadata": {
        "colab": {
          "base_uri": "https://localhost:8080/"
        },
        "id": "sMzMfilgQu1v",
        "outputId": "57cbbc0f-a201-413d-8140-9872b729eaa6"
      },
      "source": [
        "vec1 = np.array([[[1,2,3,4,5],[10,20,30,40,50],[11,21,31,41,51]]])\n",
        "vec1"
      ],
      "execution_count": null,
      "outputs": [
        {
          "output_type": "execute_result",
          "data": {
            "text/plain": [
              "array([[[ 1,  2,  3,  4,  5],\n",
              "        [10, 20, 30, 40, 50],\n",
              "        [11, 21, 31, 41, 51]]])"
            ]
          },
          "metadata": {
            "tags": []
          },
          "execution_count": 23
        }
      ]
    },
    {
      "cell_type": "code",
      "metadata": {
        "colab": {
          "base_uri": "https://localhost:8080/"
        },
        "id": "vmRiEmZMSU8j",
        "outputId": "96157e95-8abb-416d-e1e0-583a0037d516"
      },
      "source": [
        "vec1 = vec1.reshape(1,-1)\n",
        "vec1.shape"
      ],
      "execution_count": null,
      "outputs": [
        {
          "output_type": "execute_result",
          "data": {
            "text/plain": [
              "(1, 15)"
            ]
          },
          "metadata": {
            "tags": []
          },
          "execution_count": 25
        }
      ]
    },
    {
      "cell_type": "code",
      "metadata": {
        "colab": {
          "base_uri": "https://localhost:8080/"
        },
        "id": "bmqusI8HSZLs",
        "outputId": "9419daca-9a93-44e0-c9e8-01b879b3759f"
      },
      "source": [
        "print(vec1)\n",
        "vec1[0,0:10]"
      ],
      "execution_count": null,
      "outputs": [
        {
          "output_type": "stream",
          "text": [
            "[[ 1  2  3  4  5 10 20 30 40 50 11 21 31 41 51]]\n"
          ],
          "name": "stdout"
        },
        {
          "output_type": "execute_result",
          "data": {
            "text/plain": [
              "array([ 1,  2,  3,  4,  5, 10, 20, 30, 40, 50])"
            ]
          },
          "metadata": {
            "tags": []
          },
          "execution_count": 32
        }
      ]
    },
    {
      "cell_type": "code",
      "metadata": {
        "id": "53NoXEjnTZXc"
      },
      "source": [
        ""
      ],
      "execution_count": null,
      "outputs": []
    }
  ]
}