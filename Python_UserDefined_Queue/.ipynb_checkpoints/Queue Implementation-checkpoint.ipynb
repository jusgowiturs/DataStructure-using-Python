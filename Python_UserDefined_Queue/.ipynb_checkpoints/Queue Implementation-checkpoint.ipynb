{
 "cells": [
  {
   "cell_type": "code",
   "execution_count": 11,
   "metadata": {},
   "outputs": [],
   "source": [
    "class Queue:\n",
    "    def __init__(self):\n",
    "        self.__Q=list()\n",
    "    def add(self,data):\n",
    "        self.__Q.append(data)\n",
    "    def pop(self):\n",
    "        try:\n",
    "            return self.__Q.pop(0)\n",
    "        except:\n",
    "            print(\"Queue is Empty \")\n",
    "            return None\n",
    "    def __str__(self):\n",
    "        return str(self.__Q)\n",
    "    def __len__(self):\n",
    "        return len(self.__Q)\n",
    "    def peek(self):\n",
    "        try:\n",
    "            return self.__Q[0]\n",
    "        except:\n",
    "            print(\"Queue is Empty\")\n",
    "            return None\n",
    "    def isEmpty(self):\n",
    "        if len(self.__Q)==0:\n",
    "            return True\n",
    "        else:\n",
    "            return False\n",
    "    \n"
   ]
  },
  {
   "cell_type": "code",
   "execution_count": 12,
   "metadata": {},
   "outputs": [
    {
     "name": "stdout",
     "output_type": "stream",
     "text": [
      "[]\n",
      "[]\n",
      "[10]\n",
      "[10, 20]\n",
      "[10, 20, 30]\n"
     ]
    }
   ],
   "source": [
    "q=Queue()\n",
    "print(q)\n",
    "q.isEmpty()\n",
    "print(q)\n",
    "q.add(10)\n",
    "print(q)\n",
    "q.add(20)\n",
    "print(q)\n",
    "q.add(30)\n",
    "print(q)\n"
   ]
  },
  {
   "cell_type": "code",
   "execution_count": 13,
   "metadata": {},
   "outputs": [
    {
     "name": "stdout",
     "output_type": "stream",
     "text": [
      "False\n",
      "10\n"
     ]
    }
   ],
   "source": [
    "print(q.isEmpty())\n",
    "\n",
    "print(q.peek())"
   ]
  },
  {
   "cell_type": "code",
   "execution_count": 14,
   "metadata": {},
   "outputs": [
    {
     "name": "stdout",
     "output_type": "stream",
     "text": [
      "[10, 20, 30]\n"
     ]
    }
   ],
   "source": [
    "print(q)"
   ]
  },
  {
   "cell_type": "code",
   "execution_count": 15,
   "metadata": {},
   "outputs": [
    {
     "name": "stdout",
     "output_type": "stream",
     "text": [
      "10\n",
      "20\n",
      "30\n"
     ]
    }
   ],
   "source": [
    "\n",
    "print(q.pop())\n",
    "print(q.pop())\n",
    "print(q.pop())"
   ]
  },
  {
   "cell_type": "code",
   "execution_count": null,
   "metadata": {},
   "outputs": [],
   "source": []
  },
  {
   "cell_type": "code",
   "execution_count": 35,
   "metadata": {},
   "outputs": [],
   "source": [
    "from collections import deque \n",
    "\n",
    "#q1 =deque(maxlen=8)\n",
    "q1 = deque()"
   ]
  },
  {
   "cell_type": "code",
   "execution_count": 39,
   "metadata": {},
   "outputs": [
    {
     "name": "stdout",
     "output_type": "stream",
     "text": [
      "deque([10])\n",
      "deque([10, 20])\n",
      "deque([10, 20, 30])\n",
      "deque([10, 20, 30, 40])\n",
      "deque([10, 20, 30, 40, 50])\n",
      "deque([10, 20, 30, 40, 50, 60])\n",
      "deque([10, 20, 30, 40, 50, 60, 70])\n",
      "deque([10, 20, 30, 40, 50, 60, 70, 80])\n",
      "deque([10, 20, 30, 40, 50, 60, 70, 80, 90])\n"
     ]
    }
   ],
   "source": [
    "\n",
    "q1.append(10)\n",
    "print(q1)\n",
    "q1.append(20)\n",
    "print(q1)\n",
    "q1.append(30)\n",
    "print(q1)\n",
    "q1.append(40)\n",
    "print(q1)\n",
    "q1.append(50)\n",
    "print(q1)\n",
    "q1.append(60)\n",
    "print(q1)\n",
    "q1.append(70)\n",
    "print(q1)\n",
    "q1.append(80)\n",
    "print(q1)\n",
    "q1.append(90)\n",
    "print(q1)"
   ]
  },
  {
   "cell_type": "code",
   "execution_count": 40,
   "metadata": {},
   "outputs": [
    {
     "name": "stdout",
     "output_type": "stream",
     "text": [
      "10\n",
      "deque([20, 30, 40, 50, 60, 70, 80, 90])\n",
      "20\n",
      "deque([30, 40, 50, 60, 70, 80, 90])\n",
      "30\n",
      "deque([40, 50, 60, 70, 80, 90])\n",
      "40\n",
      "deque([50, 60, 70, 80, 90])\n",
      "50\n",
      "deque([60, 70, 80, 90])\n",
      "60\n",
      "deque([70, 80, 90])\n",
      "70\n",
      "deque([80, 90])\n",
      "80\n",
      "deque([90])\n",
      "90\n",
      "deque([])\n"
     ]
    },
    {
     "ename": "IndexError",
     "evalue": "pop from an empty deque",
     "output_type": "error",
     "traceback": [
      "\u001b[1;31m---------------------------------------------------------------------------\u001b[0m",
      "\u001b[1;31mIndexError\u001b[0m                                Traceback (most recent call last)",
      "\u001b[1;32m<ipython-input-40-fca0eccd7e6a>\u001b[0m in \u001b[0;36m<module>\u001b[1;34m\u001b[0m\n\u001b[0;32m     17\u001b[0m \u001b[0mprint\u001b[0m\u001b[1;33m(\u001b[0m\u001b[0mq1\u001b[0m\u001b[1;33m.\u001b[0m\u001b[0mpopleft\u001b[0m\u001b[1;33m(\u001b[0m\u001b[1;33m)\u001b[0m\u001b[1;33m)\u001b[0m\u001b[1;33m\u001b[0m\u001b[1;33m\u001b[0m\u001b[0m\n\u001b[0;32m     18\u001b[0m \u001b[0mprint\u001b[0m\u001b[1;33m(\u001b[0m\u001b[0mq1\u001b[0m\u001b[1;33m)\u001b[0m\u001b[1;33m\u001b[0m\u001b[1;33m\u001b[0m\u001b[0m\n\u001b[1;32m---> 19\u001b[1;33m \u001b[0mprint\u001b[0m\u001b[1;33m(\u001b[0m\u001b[0mq1\u001b[0m\u001b[1;33m.\u001b[0m\u001b[0mpopleft\u001b[0m\u001b[1;33m(\u001b[0m\u001b[1;33m)\u001b[0m\u001b[1;33m)\u001b[0m\u001b[1;33m\u001b[0m\u001b[1;33m\u001b[0m\u001b[0m\n\u001b[0m\u001b[0;32m     20\u001b[0m \u001b[0mprint\u001b[0m\u001b[1;33m(\u001b[0m\u001b[0mq1\u001b[0m\u001b[1;33m)\u001b[0m\u001b[1;33m\u001b[0m\u001b[1;33m\u001b[0m\u001b[0m\n",
      "\u001b[1;31mIndexError\u001b[0m: pop from an empty deque"
     ]
    }
   ],
   "source": [
    "print(q1.popleft())\n",
    "print(q1)\n",
    "print(q1.popleft())\n",
    "print(q1)\n",
    "print(q1.popleft())\n",
    "print(q1)\n",
    "print(q1.popleft())\n",
    "print(q1)\n",
    "print(q1.popleft())\n",
    "print(q1)\n",
    "print(q1.popleft())\n",
    "print(q1)\n",
    "print(q1.popleft())\n",
    "print(q1)\n",
    "print(q1.popleft())\n",
    "print(q1)\n",
    "print(q1.popleft())\n",
    "print(q1)\n"
   ]
  },
  {
   "cell_type": "code",
   "execution_count": null,
   "metadata": {},
   "outputs": [],
   "source": []
  }
 ],
 "metadata": {
  "kernelspec": {
   "display_name": "Python 3",
   "language": "python",
   "name": "python3"
  },
  "language_info": {
   "codemirror_mode": {
    "name": "ipython",
    "version": 3
   },
   "file_extension": ".py",
   "mimetype": "text/x-python",
   "name": "python",
   "nbconvert_exporter": "python",
   "pygments_lexer": "ipython3",
   "version": "3.7.4"
  }
 },
 "nbformat": 4,
 "nbformat_minor": 2
}
