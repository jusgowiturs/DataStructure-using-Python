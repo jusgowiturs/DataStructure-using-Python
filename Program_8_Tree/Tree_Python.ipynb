{
 "cells": [
  {
   "cell_type": "markdown",
   "metadata": {},
   "source": [
    "### Basic Example for Function call recursively using Class in Python"
   ]
  },
  {
   "cell_type": "markdown",
   "metadata": {},
   "source": [
    "Here Class Name is NestedFunc\\\n",
    "Attributes :\n",
    "* Num\n",
    "* fact\n",
    "\n"
   ]
  },
  {
   "cell_type": "code",
   "execution_count": 309,
   "metadata": {},
   "outputs": [],
   "source": [
    "class NestedFunc:\n",
    "    def __init__(self,num=None):\n",
    "        self.Num=num\n",
    "        self.result=0\n",
    "    def fact(self):\n",
    "        print(\"Current Address of {0}\\t:\\t{1}\\t\\tBut Calling Function Address \\t:\\t {2}\".format(self.Num,id(self.Num),id(self)))\n",
    "        if self.Num==1:\n",
    "           # print(id(self.fact))\n",
    "            return 1\n",
    "        else:\n",
    "            #print(self.Num)\n",
    "            tmp=self.Num# Because for recursive calling to complete by bring up Num value to zero by decrement. Hence for Num! we storing Num value to tmp else (Num-1)! only going to perform\n",
    "           # print(id(self.fact))\n",
    "            #print(\"Current Address of Operand (tmp = {0})\\t:\\t{1}\\t\".format(tmp,id(tmp)))\n",
    "            self.Num-=1\n",
    "            return (tmp * self.fact())   \n",
    "            #return(self.Num *self.fact())"
   ]
  },
  {
   "cell_type": "code",
   "execution_count": 310,
   "metadata": {},
   "outputs": [
    {
     "name": "stdout",
     "output_type": "stream",
     "text": [
      "2821047000264 140726734070288\n",
      "Current Address of 5\t:\t140726734070288\t\tBut Calling Function Address \t:\t 2821047000264\n",
      "Current Address of 4\t:\t140726734070256\t\tBut Calling Function Address \t:\t 2821047000264\n",
      "Current Address of 3\t:\t140726734070224\t\tBut Calling Function Address \t:\t 2821047000264\n",
      "Current Address of 2\t:\t140726734070192\t\tBut Calling Function Address \t:\t 2821047000264\n",
      "Current Address of 1\t:\t140726734070160\t\tBut Calling Function Address \t:\t 2821047000264\n"
     ]
    },
    {
     "data": {
      "text/plain": [
       "120"
      ]
     },
     "execution_count": 310,
     "metadata": {},
     "output_type": "execute_result"
    }
   ],
   "source": [
    "A=NestedFunc(5)\n",
    "print(id(A),id(A.Num))\n",
    "A.fact()"
   ]
  },
  {
   "cell_type": "code",
   "execution_count": 338,
   "metadata": {},
   "outputs": [],
   "source": [
    "class NestedFunc2:\n",
    "    count=1\n",
    "    def fact(self,num=None):\n",
    "        self.Num=num\n",
    "        print(\"Function Calling time :\",self.count)\n",
    "        self.count+=1\n",
    "        print(\"Current Address of {0}\\t\\t:\\t{1}\".format(self.Num,id(self.Num)))\n",
    "        print(\"Current Address of Object is \\t:\\t{0}\\t and its Method address is :\\t{1}\".format(id(self),id(self.fact)))\n",
    "        if self.Num==1:\n",
    "            return 1\n",
    "        else:\n",
    "            return self.Num*self.fact(self.Num-1)"
   ]
  },
  {
   "cell_type": "code",
   "execution_count": 339,
   "metadata": {},
   "outputs": [
    {
     "name": "stdout",
     "output_type": "stream",
     "text": [
      "Function Calling time : 1\n",
      "Current Address of 5\t\t:\t140726734070288\n",
      "Current Address of Object is \t:\t2821058224392\t and its Method address is :\t2821056859912\n",
      "Function Calling time : 2\n",
      "Current Address of 4\t\t:\t140726734070256\n",
      "Current Address of Object is \t:\t2821058224392\t and its Method address is :\t2821056859912\n",
      "Function Calling time : 3\n",
      "Current Address of 3\t\t:\t140726734070224\n",
      "Current Address of Object is \t:\t2821058224392\t and its Method address is :\t2821056859912\n",
      "Function Calling time : 4\n",
      "Current Address of 2\t\t:\t140726734070192\n",
      "Current Address of Object is \t:\t2821058224392\t and its Method address is :\t2821056859912\n",
      "Function Calling time : 5\n",
      "Current Address of 1\t\t:\t140726734070160\n",
      "Current Address of Object is \t:\t2821058224392\t and its Method address is :\t2821056859912\n"
     ]
    },
    {
     "data": {
      "text/plain": [
       "120"
      ]
     },
     "execution_count": 339,
     "metadata": {},
     "output_type": "execute_result"
    }
   ],
   "source": [
    "AA=NestedFunc2()\n",
    "AA.fact(5)"
   ]
  },
  {
   "cell_type": "markdown",
   "metadata": {},
   "source": [
    "### Binary Search Tree"
   ]
  },
  {
   "cell_type": "markdown",
   "metadata": {},
   "source": [
    "### Create node which holds data value and address of leftchild and right child as considering itself as parent with two children\n",
    "* Attributes \n",
    "    * data             ===> which holds the value from arrival\n",
    "    * leftchild        ===> which holds the value from arrival when it is lesser than its parent value\n",
    "                  When it holds the value as None, Then its parent Node will called as leaf Node when its parent Node as no right side child node value\n",
    "    * rightchild       ===> which holds the value from arrival when it is greater than its parent value"
   ]
  },
  {
   "cell_type": "code",
   "execution_count": 3,
   "metadata": {},
   "outputs": [],
   "source": [
    "class Node(object):\n",
    "    def __init__(self, data):\n",
    "        self.data = data\n",
    "        self.leftChild = None\n",
    "        self.rightChild = None"
   ]
  },
  {
   "cell_type": "code",
   "execution_count": 122,
   "metadata": {},
   "outputs": [],
   "source": [
    "class Tree(object):\n",
    "    def __init__(self):\n",
    "        \n",
    "        \n",
    "        #To Set Root Node with None value \n",
    "        # This None value is used for Traversal\n",
    "        self.root=None\n",
    "    def insert(self,data):\n",
    "        #print(\"Tree Data Contains\\n\")\n",
    "        if self.root:\n",
    "            self._insert(data,self.root)\n",
    "        else:\n",
    "            self.root = Node(data)\n",
    "        \n",
    "            \n",
    "        \n",
    "    def _insert(self,data,current_node):\n",
    "        if data < current_node.data:\n",
    "            if current_node.leftChild ==None:\n",
    "                current_node.leftChild = Node(data)\n",
    "            else:\n",
    "                self._insert(data,current_node.leftChild)\n",
    "        elif data > current_node.data:\n",
    "            if current_node.rightChild ==None:\n",
    "                current_node.rightChild = Node(data)\n",
    "            else:\n",
    "                self._insert(data,current_node.rightChild)\n",
    "        else:\n",
    "            print(\"\\nData is Already in the tree\\n\")\n",
    "        print(\"Current Address :{0}\\t:Current Data :{1}\\nLeft Child Data :{2}\\tRight Child Data :{3}\".format(id(current_node),current_node.data,current_node.leftChild,current_node.rightChild))\n",
    "        \n",
    "    def traversal(self,order):\n",
    "        self.collection=list()\n",
    "        if self.root !=None:\n",
    "            if order=='preorder':\n",
    "                self._preorder_traversal(self.root)\n",
    "            elif order=='inorder':\n",
    "                self._inorder_traversal(self.root)\n",
    "            else:\n",
    "                #print(\"Need to Frame definition for Post oRder\")\n",
    "                self._postorder_traversal(self.root)\n",
    "            return self.collection\n",
    "        else:\n",
    "            print(\"Tree is not Created\")\n",
    "    def _preorder_traversal(self,Current_node):\n",
    "        if Current_node !=None:\n",
    "            self.collection.append(Current_node.data)\n",
    "            #print(self.collection)\n",
    "            \n",
    "            self._preorder_traversal(Current_node.leftChild)\n",
    "            self._preorder_traversal(Current_node.rightChild)\n",
    "            return self.collection\n",
    "    def _inorder_traversal(self,Current_node):\n",
    "        if Current_node !=None:\n",
    "            #print(self.collection)\n",
    "            \n",
    "            self._inorder_traversal(Current_node.leftChild)\n",
    "            self.collection.append(Current_node.data)\n",
    "            self._inorder_traversal(Current_node.rightChild)\n",
    "            return self.collection\n",
    "    def _postorder_traversal(self,Current_node):\n",
    "        if Current_node !=None:\n",
    "            #print(self.collection)\n",
    "            \n",
    "            self._postorder_traversal(Current_node.leftChild)\n",
    "            self._postorder_traversal(Current_node.rightChild)\n",
    "            self.collection.append(Current_node.data)\n",
    "            \n",
    "            return self.collection\n",
    "    def print_tree(self,order):\n",
    "        if self.root !=None:\n",
    "            if order=='preorder':\n",
    "                return self._print_tree_preorder(self.root)\n",
    "            elif order =='inorder':\n",
    "                return self._print_tree_inorder(self.root)\n",
    "            else:\n",
    "                return self._print_tree_postorder(self.root)\n",
    "            \n",
    "        else:\n",
    "            print(\"Tree is not Created\")\n",
    "            \n",
    "    def _print_tree_preorder(self,Current_node):\n",
    "        if Current_node !=None:\n",
    "            print(str(Current_node.data))\n",
    "            self._print_tree_preorder(Current_node.leftChild)\n",
    "            self._print_tree_preorder(Current_node.rightChild)\n",
    "    def _print_tree_inorder(self,Current_node):\n",
    "        if Current_node !=None:\n",
    "            self._print_tree_inorder(Current_node.leftChild)\n",
    "            print(str(Current_node.data))\n",
    "            self._print_tree_inorder(Current_node.rightChild)\n",
    "    def _print_tree_postorder(self,Current_node):\n",
    "        if Current_node !=None:\n",
    "            self._print_tree_postorder(Current_node.leftChild)\n",
    "            self._print_tree_postorder(Current_node.rightChild)\n",
    "            print(str(Current_node.data))\n",
    "            \n",
    "    "
   ]
  },
  {
   "cell_type": "markdown",
   "metadata": {},
   "source": [
    "# YouTube Video For [Binary Search Tree](https://www.youtube.com/watch?v=f5dU3xoE6ms)"
   ]
  },
  {
   "cell_type": "code",
   "execution_count": 131,
   "metadata": {},
   "outputs": [
    {
     "name": "stdout",
     "output_type": "stream",
     "text": [
      "2552269604488 \n",
      "Is Tree Created =  True\n"
     ]
    }
   ],
   "source": [
    "T=Tree()\n",
    "print(id(T),'\\nIs Tree Created = ',T.root ==None)"
   ]
  },
  {
   "cell_type": "code",
   "execution_count": 132,
   "metadata": {},
   "outputs": [],
   "source": [
    "T.insert(5)"
   ]
  },
  {
   "cell_type": "code",
   "execution_count": 133,
   "metadata": {},
   "outputs": [
    {
     "name": "stdout",
     "output_type": "stream",
     "text": [
      "Current Address :2552270132936\t:Current Data :5\n",
      "Left Child Data :<__main__.Node object at 0x000002523F025148>\tRight Child Data :None\n"
     ]
    }
   ],
   "source": [
    "T.insert(4)"
   ]
  },
  {
   "cell_type": "code",
   "execution_count": 134,
   "metadata": {},
   "outputs": [
    {
     "name": "stdout",
     "output_type": "stream",
     "text": [
      "Current Address :2552267690312\t:Current Data :4\n",
      "Left Child Data :<__main__.Node object at 0x000002523F34CB08>\tRight Child Data :None\n",
      "Current Address :2552270132936\t:Current Data :5\n",
      "Left Child Data :<__main__.Node object at 0x000002523F025148>\tRight Child Data :None\n"
     ]
    }
   ],
   "source": [
    "T.insert(3)"
   ]
  },
  {
   "cell_type": "code",
   "execution_count": 127,
   "metadata": {},
   "outputs": [
    {
     "name": "stdout",
     "output_type": "stream",
     "text": [
      "Current Address :2552270884552\t:Current Data :3\n",
      "Left Child Data :<__main__.Node object at 0x000002523F64FF88>\tRight Child Data :None\n",
      "Current Address :2552274191240\t:Current Data :4\n",
      "Left Child Data :<__main__.Node object at 0x000002523F330EC8>\tRight Child Data :None\n",
      "Current Address :2552268075720\t:Current Data :5\n",
      "Left Child Data :<__main__.Node object at 0x000002523F658388>\tRight Child Data :None\n"
     ]
    }
   ],
   "source": [
    "T.insert(2)"
   ]
  },
  {
   "cell_type": "code",
   "execution_count": 128,
   "metadata": {},
   "outputs": [
    {
     "name": "stdout",
     "output_type": "stream",
     "text": [
      "Current Address :2552268075720\t:Current Data :5\n",
      "Left Child Data :<__main__.Node object at 0x000002523F658388>\tRight Child Data :<__main__.Node object at 0x000002523F182EC8>\n"
     ]
    }
   ],
   "source": [
    "T.insert(6)"
   ]
  },
  {
   "cell_type": "code",
   "execution_count": 130,
   "metadata": {},
   "outputs": [
    {
     "name": "stdout",
     "output_type": "stream",
     "text": [
      "3 is in the Tree\n"
     ]
    }
   ],
   "source": [
    "T.search(3)"
   ]
  },
  {
   "cell_type": "code",
   "execution_count": null,
   "metadata": {},
   "outputs": [],
   "source": []
  },
  {
   "cell_type": "code",
   "execution_count": 87,
   "metadata": {},
   "outputs": [
    {
     "name": "stdout",
     "output_type": "stream",
     "text": [
      "\n",
      "Data is Already in the tree\n",
      "\n",
      "Current Address :2552273803400\t:Current Data :5\n",
      "Left Child Data :<__main__.Node object at 0x000002523F614EC8>\tRight Child Data :<__main__.Node object at 0x000002523F473548>\n"
     ]
    },
    {
     "data": {
      "text/plain": [
       "False"
      ]
     },
     "execution_count": 87,
     "metadata": {},
     "output_type": "execute_result"
    }
   ],
   "source": [
    "T.insert(5)\n",
    "T.root==None"
   ]
  },
  {
   "cell_type": "code",
   "execution_count": 88,
   "metadata": {},
   "outputs": [
    {
     "name": "stdout",
     "output_type": "stream",
     "text": [
      "Is LeftChild is None\t:False\n",
      "Is Right Child is None\t:False\n",
      "Current Address :2552272338760\t:Current Data :2\n",
      "Left Child Data :<__main__.Node object at 0x000002523F49EBC8>\tRight Child Data :None\n",
      "Current Address :2552273882760\t:Current Data :3\n",
      "Left Child Data :<__main__.Node object at 0x000002523F493F48>\tRight Child Data :None\n",
      "Current Address :2552273915592\t:Current Data :4\n",
      "Left Child Data :<__main__.Node object at 0x000002523F60CE88>\tRight Child Data :None\n",
      "Current Address :2552273803400\t:Current Data :5\n",
      "Left Child Data :<__main__.Node object at 0x000002523F614EC8>\tRight Child Data :<__main__.Node object at 0x000002523F473548>\n"
     ]
    }
   ],
   "source": [
    "print(\"Is LeftChild is None\\t:{0}\\nIs Right Child is None\\t:{1}\".format(T.root.leftChild ==None,T.root.rightChild ==None))\n",
    "T.insert(1)"
   ]
  },
  {
   "cell_type": "code",
   "execution_count": 33,
   "metadata": {},
   "outputs": [
    {
     "name": "stdout",
     "output_type": "stream",
     "text": [
      "Is LeftChild is None\t:False\n",
      "Is Right Child is None\t:True\n"
     ]
    }
   ],
   "source": [
    "print(\"Is LeftChild is None\\t:{0}\\nIs Right Child is None\\t:{1}\".format(T.root.leftChild ==None,T.root.rightChild ==None))\n"
   ]
  },
  {
   "cell_type": "code",
   "execution_count": 37,
   "metadata": {},
   "outputs": [
    {
     "name": "stdout",
     "output_type": "stream",
     "text": [
      "Tree Data Contains\n",
      "\n",
      "Current Address :2552266990984\t:Current Data :5\n",
      "Left Child Data :<__main__.Node object at 0x000002523F8DC188>\tRight Child Data :<__main__.Node object at 0x000002523F7B7488>\n",
      "Current Address :2552276828552\t:Current Data :1\n",
      "Left Child Data :<__main__.Node object at 0x000002523DEBB688>\tRight Child Data :<__main__.Node object at 0x000002523F7B7E48>\n",
      "Current Address :2552275631688\t:Current Data :3\n",
      "Left Child Data :<__main__.Node object at 0x000002523EF82188>\tRight Child Data :None\n",
      "\n",
      "Data is Already in the tree\n",
      "\n",
      "Tree Data Contains\n",
      "\n",
      "Current Address :2552266990984\t:Current Data :5\n",
      "Left Child Data :<__main__.Node object at 0x000002523F8DC188>\tRight Child Data :<__main__.Node object at 0x000002523F7B7488>\n",
      "Current Address :2552276828552\t:Current Data :1\n",
      "Left Child Data :<__main__.Node object at 0x000002523DEBB688>\tRight Child Data :<__main__.Node object at 0x000002523F7B7E48>\n",
      "Current Address :2552275631688\t:Current Data :3\n",
      "Left Child Data :<__main__.Node object at 0x000002523EF82188>\tRight Child Data :None\n",
      "Current Address :2552267022728\t:Current Data :2\n",
      "Left Child Data :None\tRight Child Data :None\n",
      "\n",
      "Data is Already in the tree\n",
      "\n",
      "Tree Data Contains\n",
      "\n",
      "Current Address :2552266990984\t:Current Data :5\n",
      "Left Child Data :<__main__.Node object at 0x000002523F8DC188>\tRight Child Data :<__main__.Node object at 0x000002523F7B7488>\n",
      "Current Address :2552275629192\t:Current Data :7\n",
      "Left Child Data :None\tRight Child Data :<__main__.Node object at 0x000002523EDB76C8>\n",
      "\n",
      "Data is Already in the tree\n",
      "\n",
      "Tree Data Contains\n",
      "\n",
      "Current Address :2552266990984\t:Current Data :5\n",
      "Left Child Data :<__main__.Node object at 0x000002523F8DC188>\tRight Child Data :<__main__.Node object at 0x000002523F7B7488>\n",
      "Current Address :2552275629192\t:Current Data :7\n",
      "Left Child Data :None\tRight Child Data :<__main__.Node object at 0x000002523EDB76C8>\n",
      "Current Address :2552265144008\t:Current Data :10\n",
      "Left Child Data :None\tRight Child Data :<__main__.Node object at 0x000002523EDCAF08>\n",
      "\n",
      "Data is Already in the tree\n",
      "\n",
      "Tree Data Contains\n",
      "\n",
      "Current Address :2552266990984\t:Current Data :5\n",
      "Left Child Data :<__main__.Node object at 0x000002523F8DC188>\tRight Child Data :<__main__.Node object at 0x000002523F7B7488>\n",
      "Current Address :2552276828552\t:Current Data :1\n",
      "Left Child Data :<__main__.Node object at 0x000002523DEBB688>\tRight Child Data :<__main__.Node object at 0x000002523F7B7E48>\n",
      "Current Address :2552249431688\t:Current Data :0\n",
      "Left Child Data :None\tRight Child Data :None\n",
      "\n",
      "Data is Already in the tree\n",
      "\n",
      "Tree Data Contains\n",
      "\n",
      "Current Address :2552266990984\t:Current Data :5\n",
      "Left Child Data :<__main__.Node object at 0x000002523F8DC188>\tRight Child Data :<__main__.Node object at 0x000002523F7B7488>\n",
      "Current Address :2552275629192\t:Current Data :7\n",
      "Left Child Data :None\tRight Child Data :<__main__.Node object at 0x000002523EDB76C8>\n",
      "Current Address :2552265144008\t:Current Data :10\n",
      "Left Child Data :None\tRight Child Data :<__main__.Node object at 0x000002523EDCAF08>\n",
      "Current Address :2552265223944\t:Current Data :20\n",
      "Left Child Data :None\tRight Child Data :None\n",
      "\n",
      "Data is Already in the tree\n",
      "\n"
     ]
    }
   ],
   "source": [
    "T.insert(3)\n",
    "T.insert(2)\n",
    "T.insert(7)\n",
    "T.insert(10)\n",
    "T.insert(0)\n",
    "T.insert(20)\n",
    "#T.root.rightChild"
   ]
  },
  {
   "cell_type": "code",
   "execution_count": 35,
   "metadata": {},
   "outputs": [
    {
     "name": "stdout",
     "output_type": "stream",
     "text": [
      "None\n"
     ]
    }
   ],
   "source": [
    "print(T.root.leftChild.leftChild.leftChild)"
   ]
  },
  {
   "cell_type": "code",
   "execution_count": 36,
   "metadata": {},
   "outputs": [
    {
     "name": "stdout",
     "output_type": "stream",
     "text": [
      "Inorder\n",
      "\n",
      "0\n",
      "1\n",
      "2\n",
      "3\n",
      "5\n",
      "7\n",
      "10\n",
      "20\n",
      "\n",
      "Preorder\n",
      "\n",
      "5\n",
      "1\n",
      "0\n",
      "3\n",
      "2\n",
      "7\n",
      "10\n",
      "20\n",
      "\n",
      "Postorder\n",
      "\n",
      "0\n",
      "2\n",
      "3\n",
      "1\n",
      "20\n",
      "10\n",
      "7\n",
      "5\n"
     ]
    }
   ],
   "source": [
    "print(\"Inorder\\n\")\n",
    "T.print_tree('inorder')\n",
    "print(\"\\nPreorder\\n\")\n",
    "T.print_tree('preorder')\n",
    "print(\"\\nPostorder\\n\")\n",
    "T.print_tree('postorder')"
   ]
  },
  {
   "cell_type": "raw",
   "metadata": {},
   "source": [
    "    5\n",
    "   1  7\n",
    "  0 3  10\n",
    "   2     20"
   ]
  },
  {
   "cell_type": "code",
   "execution_count": 9,
   "metadata": {},
   "outputs": [
    {
     "data": {
      "text/plain": [
       "5"
      ]
     },
     "execution_count": 9,
     "metadata": {},
     "output_type": "execute_result"
    }
   ],
   "source": [
    "T.root.rightChild==None\n",
    "T.root.data"
   ]
  },
  {
   "cell_type": "code",
   "execution_count": 258,
   "metadata": {},
   "outputs": [
    {
     "name": "stdout",
     "output_type": "stream",
     "text": [
      "[]\n",
      "[]\n",
      "[]\n",
      "[0, 1]\n",
      "[0, 1]\n",
      "[0, 1, 2, 3, 5]\n",
      "[0, 1, 2, 3, 5, 7]\n",
      "[0, 1, 2, 3, 5, 7, 10]\n"
     ]
    },
    {
     "data": {
      "text/plain": [
       "[0, 1, 2, 3, 5, 7, 10, 20]"
      ]
     },
     "execution_count": 258,
     "metadata": {},
     "output_type": "execute_result"
    }
   ],
   "source": [
    "T.traversal('inorder')"
   ]
  },
  {
   "cell_type": "code",
   "execution_count": 184,
   "metadata": {},
   "outputs": [
    {
     "data": {
      "text/plain": [
       "7"
      ]
     },
     "execution_count": 184,
     "metadata": {},
     "output_type": "execute_result"
    }
   ],
   "source": [
    "T.root.rightChild.data"
   ]
  },
  {
   "cell_type": "code",
   "execution_count": 10,
   "metadata": {},
   "outputs": [
    {
     "data": {
      "text/plain": [
       "<__main__.Node at 0x18dd52b4188>"
      ]
     },
     "execution_count": 10,
     "metadata": {},
     "output_type": "execute_result"
    }
   ],
   "source": [
    "T.root.leftChild"
   ]
  },
  {
   "cell_type": "code",
   "execution_count": 11,
   "metadata": {},
   "outputs": [
    {
     "data": {
      "text/plain": [
       "False"
      ]
     },
     "execution_count": 11,
     "metadata": {},
     "output_type": "execute_result"
    }
   ],
   "source": [
    "T.search(10)\n",
    "T.search(-10)"
   ]
  },
  {
   "cell_type": "code",
   "execution_count": null,
   "metadata": {},
   "outputs": [],
   "source": []
  },
  {
   "cell_type": "code",
   "execution_count": null,
   "metadata": {},
   "outputs": [],
   "source": []
  }
 ],
 "metadata": {
  "kernelspec": {
   "display_name": "Python 3",
   "language": "python",
   "name": "python3"
  },
  "language_info": {
   "codemirror_mode": {
    "name": "ipython",
    "version": 3
   },
   "file_extension": ".py",
   "mimetype": "text/x-python",
   "name": "python",
   "nbconvert_exporter": "python",
   "pygments_lexer": "ipython3",
   "version": "3.7.4"
  },
  "widgets": {
   "application/vnd.jupyter.widget-state+json": {
    "state": {},
    "version_major": 2,
    "version_minor": 0
   }
  }
 },
 "nbformat": 4,
 "nbformat_minor": 2
}
