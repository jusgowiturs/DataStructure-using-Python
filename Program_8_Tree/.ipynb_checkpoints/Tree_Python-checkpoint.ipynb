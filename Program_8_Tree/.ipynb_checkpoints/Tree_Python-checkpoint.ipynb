{
 "cells": [
  {
   "cell_type": "markdown",
   "metadata": {},
   "source": [
    "### Basic Example for Function call recursively using Class in Python"
   ]
  },
  {
   "cell_type": "markdown",
   "metadata": {},
   "source": [
    "Here Class Name is NestedFunc\\\n",
    "Attributes :\n",
    "* Num\n",
    "* fact\n",
    "\n"
   ]
  },
  {
   "cell_type": "code",
   "execution_count": 309,
   "metadata": {},
   "outputs": [],
   "source": [
    "class NestedFunc:\n",
    "    def __init__(self,num=None):\n",
    "        self.Num=num\n",
    "        self.result=0\n",
    "    def fact(self):\n",
    "        print(\"Current Address of {0}\\t:\\t{1}\\t\\tBut Calling Function Address \\t:\\t {2}\".format(self.Num,id(self.Num),id(self)))\n",
    "        if self.Num==1:\n",
    "           # print(id(self.fact))\n",
    "            return 1\n",
    "        else:\n",
    "            #print(self.Num)\n",
    "            tmp=self.Num# Because for recursive calling to complete by bring up Num value to zero by decrement. Hence for Num! we storing Num value to tmp else (Num-1)! only going to perform\n",
    "           # print(id(self.fact))\n",
    "            #print(\"Current Address of Operand (tmp = {0})\\t:\\t{1}\\t\".format(tmp,id(tmp)))\n",
    "            self.Num-=1\n",
    "            return (tmp * self.fact())   \n",
    "            #return(self.Num *self.fact())"
   ]
  },
  {
   "cell_type": "code",
   "execution_count": 310,
   "metadata": {},
   "outputs": [
    {
     "name": "stdout",
     "output_type": "stream",
     "text": [
      "2821047000264 140726734070288\n",
      "Current Address of 5\t:\t140726734070288\t\tBut Calling Function Address \t:\t 2821047000264\n",
      "Current Address of 4\t:\t140726734070256\t\tBut Calling Function Address \t:\t 2821047000264\n",
      "Current Address of 3\t:\t140726734070224\t\tBut Calling Function Address \t:\t 2821047000264\n",
      "Current Address of 2\t:\t140726734070192\t\tBut Calling Function Address \t:\t 2821047000264\n",
      "Current Address of 1\t:\t140726734070160\t\tBut Calling Function Address \t:\t 2821047000264\n"
     ]
    },
    {
     "data": {
      "text/plain": [
       "120"
      ]
     },
     "execution_count": 310,
     "metadata": {},
     "output_type": "execute_result"
    }
   ],
   "source": [
    "A=NestedFunc(5)\n",
    "print(id(A),id(A.Num))\n",
    "A.fact()"
   ]
  },
  {
   "cell_type": "code",
   "execution_count": 338,
   "metadata": {},
   "outputs": [],
   "source": [
    "class NestedFunc2:\n",
    "    count=1\n",
    "    def fact(self,num=None):\n",
    "        self.Num=num\n",
    "        print(\"Function Calling time :\",self.count)\n",
    "        self.count+=1\n",
    "        print(\"Current Address of {0}\\t\\t:\\t{1}\".format(self.Num,id(self.Num)))\n",
    "        print(\"Current Address of Object is \\t:\\t{0}\\t and its Method address is :\\t{1}\".format(id(self),id(self.fact)))\n",
    "        if self.Num==1:\n",
    "            return 1\n",
    "        else:\n",
    "            return self.Num*self.fact(self.Num-1)"
   ]
  },
  {
   "cell_type": "code",
   "execution_count": 339,
   "metadata": {},
   "outputs": [
    {
     "name": "stdout",
     "output_type": "stream",
     "text": [
      "Function Calling time : 1\n",
      "Current Address of 5\t\t:\t140726734070288\n",
      "Current Address of Object is \t:\t2821058224392\t and its Method address is :\t2821056859912\n",
      "Function Calling time : 2\n",
      "Current Address of 4\t\t:\t140726734070256\n",
      "Current Address of Object is \t:\t2821058224392\t and its Method address is :\t2821056859912\n",
      "Function Calling time : 3\n",
      "Current Address of 3\t\t:\t140726734070224\n",
      "Current Address of Object is \t:\t2821058224392\t and its Method address is :\t2821056859912\n",
      "Function Calling time : 4\n",
      "Current Address of 2\t\t:\t140726734070192\n",
      "Current Address of Object is \t:\t2821058224392\t and its Method address is :\t2821056859912\n",
      "Function Calling time : 5\n",
      "Current Address of 1\t\t:\t140726734070160\n",
      "Current Address of Object is \t:\t2821058224392\t and its Method address is :\t2821056859912\n"
     ]
    },
    {
     "data": {
      "text/plain": [
       "120"
      ]
     },
     "execution_count": 339,
     "metadata": {},
     "output_type": "execute_result"
    }
   ],
   "source": [
    "AA=NestedFunc2()\n",
    "AA.fact(5)"
   ]
  },
  {
   "cell_type": "markdown",
   "metadata": {},
   "source": [
    "### Binary Search Tree"
   ]
  },
  {
   "cell_type": "markdown",
   "metadata": {},
   "source": [
    "### Create node which holds data value and address of leftchild and right child as considering itself as parent with two children\n",
    "* Attributes \n",
    "    * data             ===> which holds the value from arrival\n",
    "    * leftchild        ===> which holds the value from arrival when it is lesser than its parent value\n",
    "                  When it holds the value as None, Then its parent Node will called as leaf Node when its parent Node as no right side child node value\n",
    "    * rightchild       ===> which holds the value from arrival when it is greater than its parent value"
   ]
  },
  {
   "cell_type": "code",
   "execution_count": 344,
   "metadata": {},
   "outputs": [],
   "source": [
    "class Node(object):\n",
    "    def __init__(self, data):\n",
    "        self.data = data\n",
    "        self.leftChild = None\n",
    "        self.rightChild = None"
   ]
  },
  {
   "cell_type": "code",
   "execution_count": 282,
   "metadata": {},
   "outputs": [],
   "source": [
    "class Tree(object):\n",
    "    def __init__(self):\n",
    "        \n",
    "        \n",
    "        #To Set Root Node with None value \n",
    "        # This None value is used for Traversal\n",
    "        self.root=None\n",
    "    def insert(self,data):\n",
    "        if self.root:\n",
    "            self._insert(data,self.root)\n",
    "        else:\n",
    "            self.root = Node(data)\n",
    "            \n",
    "        \n",
    "    def _insert(self,data,current_node):\n",
    "        if data < current_node.data:\n",
    "            if current_node.leftChild ==None:\n",
    "                current_node.leftChild = Node(data)\n",
    "            else:\n",
    "                self._insert(data,current_node.leftChild)\n",
    "        elif data > current_node.data:\n",
    "            if current_node.rightChild ==None:\n",
    "                current_node.rightChild = Node(data)\n",
    "            else:\n",
    "                self._insert(data,current_node.rightChild)\n",
    "        else:\n",
    "            print(\"\\nData is Already in the tree\\n\")\n",
    "    def traversal(self,order):\n",
    "        self.collection=list()\n",
    "        if self.root !=None:\n",
    "            if order=='preorder':\n",
    "                self._preorder_traversal(self.root)\n",
    "            elif order=='inorder':\n",
    "                self._inorder_traversal(self.root)\n",
    "            else:\n",
    "                #print(\"Need to Frame definition for Post oRder\")\n",
    "                self._postorder_traversal(self.root)\n",
    "            return self.collection\n",
    "        else:\n",
    "            print(\"Tree is not Created\")\n",
    "    def _preorder_traversal(self,Current_node):\n",
    "        if Current_node !=None:\n",
    "            self.collection.append(Current_node.data)\n",
    "            #print(self.collection)\n",
    "            \n",
    "            self._preorder_traversal(Current_node.leftChild)\n",
    "            self._preorder_traversal(Current_node.rightChild)\n",
    "            return self.collection\n",
    "    def _inorder_traversal(self,Current_node):\n",
    "        if Current_node !=None:\n",
    "            #print(self.collection)\n",
    "            \n",
    "            self._inorder_traversal(Current_node.leftChild)\n",
    "            self.collection.append(Current_node.data)\n",
    "            self._inorder_traversal(Current_node.rightChild)\n",
    "            return self.collection\n",
    "    def _postorder_traversal(self,Current_node):\n",
    "        if Current_node !=None:\n",
    "            #print(self.collection)\n",
    "            \n",
    "            self._postorder_traversal(Current_node.leftChild)\n",
    "            self._postorder_traversal(Current_node.rightChild)\n",
    "            self.collection.append(Current_node.data)\n",
    "            \n",
    "            return self.collection\n",
    "    def print_tree(self,order):\n",
    "        if self.root !=None:\n",
    "            if order=='preorder':\n",
    "                return self._print_tree_preorder(self.root)\n",
    "            elif order =='inorder':\n",
    "                return self._print_tree_inorder(self.root)\n",
    "            else:\n",
    "                return self._print_tree_postorder(self.root)\n",
    "            \n",
    "        else:\n",
    "            print(\"Tree is not Created\")\n",
    "            \n",
    "    def _print_tree_preorder(self,Current_node):\n",
    "        if Current_node !=None:\n",
    "            print(str(Current_node.data))\n",
    "            self._print_tree_preorder(Current_node.leftChild)\n",
    "            self._print_tree_preorder(Current_node.rightChild)\n",
    "    def _print_tree_inorder(self,Current_node):\n",
    "        if Current_node !=None:\n",
    "            self._print_tree_inorder(Current_node.leftChild)\n",
    "            print(str(Current_node.data))\n",
    "            self._print_tree_inorder(Current_node.rightChild)\n",
    "    def _print_tree_postorder(self,Current_node):\n",
    "        if Current_node !=None:\n",
    "            self._print_tree_postorder(Current_node.leftChild)\n",
    "            self._print_tree_postorder(Current_node.rightChild)\n",
    "            print(str(Current_node.data))\n",
    "            \n",
    "    def search(self,value):\n",
    "        if self.root!=None:\n",
    "            return self._search(value,self.root)\n",
    "        else:\n",
    "            return False\n",
    "    def _search(self,value,Current_Node):\n",
    "        if value==Current_Node.data:\n",
    "            return True\n",
    "        elif value<Current_Node.data and Current_Node.leftChild !=None:\n",
    "            return self._search(value,Current_Node.leftChild)\n",
    "        elif value>Current_Node.data and Current_Node.rightChild !=None:\n",
    "            return self._search(value,Current_Node.rightChild)\n",
    "        else:\n",
    "            return False\n",
    "            "
   ]
  },
  {
   "cell_type": "markdown",
   "metadata": {},
   "source": [
    "# YouTube Video For [Binary Search Tree](https://www.youtube.com/watch?v=f5dU3xoE6ms)"
   ]
  },
  {
   "cell_type": "code",
   "execution_count": 283,
   "metadata": {},
   "outputs": [
    {
     "name": "stdout",
     "output_type": "stream",
     "text": [
      "2821048700040 \n",
      "Is Tree Created =  True\n"
     ]
    },
    {
     "data": {
      "text/plain": [
       "False"
      ]
     },
     "execution_count": 283,
     "metadata": {},
     "output_type": "execute_result"
    }
   ],
   "source": [
    "T=Tree()\n",
    "print(id(T),'\\nIs Tree Created = ',T.root ==None)\n",
    "T.insert(5)\n",
    "T.root==None"
   ]
  },
  {
   "cell_type": "code",
   "execution_count": 284,
   "metadata": {},
   "outputs": [
    {
     "name": "stdout",
     "output_type": "stream",
     "text": [
      "Is LeftChild is None\t:True\n",
      "Is Right Child is None\t:True\n"
     ]
    }
   ],
   "source": [
    "print(\"Is LeftChild is None\\t:{0}\\nIs Right Child is None\\t:{1}\".format(T.root.leftChild ==None,T.root.rightChild ==None))\n",
    "T.insert(1)"
   ]
  },
  {
   "cell_type": "code",
   "execution_count": 285,
   "metadata": {},
   "outputs": [
    {
     "name": "stdout",
     "output_type": "stream",
     "text": [
      "Is LeftChild is None\t:False\n",
      "Is Right Child is None\t:True\n"
     ]
    }
   ],
   "source": [
    "print(\"Is LeftChild is None\\t:{0}\\nIs Right Child is None\\t:{1}\".format(T.root.leftChild ==None,T.root.rightChild ==None))\n"
   ]
  },
  {
   "cell_type": "code",
   "execution_count": 286,
   "metadata": {},
   "outputs": [],
   "source": [
    "T.insert(3)\n",
    "T.insert(2)\n",
    "T.insert(7)\n",
    "T.insert(10)\n",
    "T.insert(0)\n",
    "T.insert(20)\n",
    "#T.root.rightChild"
   ]
  },
  {
   "cell_type": "code",
   "execution_count": 281,
   "metadata": {},
   "outputs": [
    {
     "name": "stdout",
     "output_type": "stream",
     "text": [
      "Inorder\n",
      "\n",
      "0\n",
      "1\n",
      "2\n",
      "3\n",
      "5\n",
      "7\n",
      "10\n",
      "20\n",
      "\n",
      "Preorder\n",
      "\n",
      "5\n",
      "1\n",
      "0\n",
      "3\n",
      "2\n",
      "7\n",
      "10\n",
      "20\n",
      "\n",
      "Postorder\n",
      "\n",
      "0\n",
      "2\n",
      "3\n",
      "1\n",
      "20\n",
      "10\n",
      "7\n",
      "5\n"
     ]
    }
   ],
   "source": [
    "print(\"Inorder\\n\")\n",
    "T.print_tree('inorder')\n",
    "print(\"\\nPreorder\\n\")\n",
    "T.print_tree('preorder')\n",
    "print(\"\\nPostorder\\n\")\n",
    "T.print_tree('postorder')"
   ]
  },
  {
   "cell_type": "raw",
   "metadata": {},
   "source": [
    "    5\n",
    "   1  7\n",
    "  0 3  10\n",
    "   2     20"
   ]
  },
  {
   "cell_type": "code",
   "execution_count": 256,
   "metadata": {},
   "outputs": [
    {
     "data": {
      "text/plain": [
       "5"
      ]
     },
     "execution_count": 256,
     "metadata": {},
     "output_type": "execute_result"
    }
   ],
   "source": [
    "T.root.rightChild==None\n",
    "T.root.data"
   ]
  },
  {
   "cell_type": "code",
   "execution_count": 258,
   "metadata": {},
   "outputs": [
    {
     "name": "stdout",
     "output_type": "stream",
     "text": [
      "[]\n",
      "[]\n",
      "[]\n",
      "[0, 1]\n",
      "[0, 1]\n",
      "[0, 1, 2, 3, 5]\n",
      "[0, 1, 2, 3, 5, 7]\n",
      "[0, 1, 2, 3, 5, 7, 10]\n"
     ]
    },
    {
     "data": {
      "text/plain": [
       "[0, 1, 2, 3, 5, 7, 10, 20]"
      ]
     },
     "execution_count": 258,
     "metadata": {},
     "output_type": "execute_result"
    }
   ],
   "source": [
    "T.traversal('inorder')"
   ]
  },
  {
   "cell_type": "code",
   "execution_count": 184,
   "metadata": {},
   "outputs": [
    {
     "data": {
      "text/plain": [
       "7"
      ]
     },
     "execution_count": 184,
     "metadata": {},
     "output_type": "execute_result"
    }
   ],
   "source": [
    "T.root.rightChild.data"
   ]
  },
  {
   "cell_type": "code",
   "execution_count": 90,
   "metadata": {},
   "outputs": [
    {
     "data": {
      "text/plain": [
       "-1"
      ]
     },
     "execution_count": 90,
     "metadata": {},
     "output_type": "execute_result"
    }
   ],
   "source": [
    "T.root.leftChild"
   ]
  },
  {
   "cell_type": "code",
   "execution_count": 154,
   "metadata": {},
   "outputs": [
    {
     "data": {
      "text/plain": [
       "False"
      ]
     },
     "execution_count": 154,
     "metadata": {},
     "output_type": "execute_result"
    }
   ],
   "source": [
    "T.search(10)\n",
    "T.search(-10)"
   ]
  },
  {
   "cell_type": "code",
   "execution_count": null,
   "metadata": {},
   "outputs": [],
   "source": []
  },
  {
   "cell_type": "code",
   "execution_count": 172,
   "metadata": {},
   "outputs": [],
   "source": [
    "# Author: OMKAR PATHAK\n",
    "\n",
    "# This program illustrates an example of Binary Search Tree using Python\n",
    "# Binary Search Tree, is a node-based binary tree data structure which has the following properties:\n",
    "#\n",
    "# The left subtree of a node contains only nodes with keys less than the node’s key.\n",
    "# The right subtree of a node contains only nodes with keys greater than the node’s key.\n",
    "# The left and right subtree each must also be a binary search tree.\n",
    "# There must be no duplicate nodes.\n",
    "class Node(object):\n",
    "    def __init__(self, data):\n",
    "        self.data = data\n",
    "        self.leftChild = None\n",
    "        self.rightChild = None\n",
    "\n",
    "    def Insert(self, data):\n",
    "        ''' For inserting the data in the Tree '''\n",
    "        print(\"Node Insert\",data)\n",
    "        if self.data == data:\n",
    "            return False        # As BST cannot contain duplicate data\n",
    "\n",
    "        elif data < self.data:\n",
    "            ''' Data less than the root data is placed to the left of the root '''\n",
    "            if self.leftChild:\n",
    "                print(\"\\t\\tRecursive left Child\\t\\t\",id(self.leftChild))\n",
    "                return self.leftChild.Insert(data)\n",
    "            else:\n",
    "                self.leftChild = Node(data)\n",
    "                print(\"\\t\\tNode Recursive left Child\\t\\t\",id(self.leftChild))\n",
    "                return True\n",
    "\n",
    "        else:\n",
    "            ''' Data greater than the root data is placed to the right of the root '''\n",
    "            if self.rightChild:\n",
    "                return self.rightChild.Insert(data)\n",
    "            else:\n",
    "                self.rightChild = Node(data)\n",
    "                return True\n",
    "\n",
    "    def minValueNode(self, node):\n",
    "        current = node\n",
    "\n",
    "        # loop down to find the leftmost leaf\n",
    "        while(current.leftChild is not None):\n",
    "            current = current.leftChild\n",
    "\n",
    "        return current\n",
    "\n",
    "    def delete(self, data):\n",
    "        ''' For deleting the node '''\n",
    "        if self is None:\n",
    "            return None\n",
    "\n",
    "        # if current node's data is less than that of root node, then only search in left subtree else right subtree\n",
    "        if data < self.data:\n",
    "            self.leftChild = self.leftChild.delete(data)\n",
    "        elif data > self.data:\n",
    "            self.rightChild = self.rightChild.delete(data)\n",
    "        else:\n",
    "            # deleting node with one child\n",
    "            if self.leftChild is None:\n",
    "                temp = self.rightChild\n",
    "                self = None\n",
    "                return temp\n",
    "            elif self.rightChild is None:\n",
    "                temp = self.leftChild\n",
    "                self = None\n",
    "                return temp\n",
    "\n",
    "            # deleting node with two children\n",
    "            # first get the inorder successor\n",
    "            temp = self.minValueNode(self.rightChild)\n",
    "            self.data = temp.data\n",
    "            self.rightChild = self.rightChild.delete(temp.data)\n",
    "\n",
    "        return self\n",
    "\n",
    "    def find(self, data):\n",
    "        ''' This function checks whether the specified data is in tree or not '''\n",
    "        if(data == self.data):\n",
    "            return True\n",
    "        elif(data < self.data):\n",
    "            if self.leftChild:\n",
    "                return self.leftChild.find(data)\n",
    "            else:\n",
    "                return False\n",
    "        else:\n",
    "            if self.rightChild:\n",
    "                return self.rightChild.find(data)\n",
    "            else:\n",
    "                return False\n",
    "\n",
    "    def preorder(self):\n",
    "        '''For preorder traversal of the BST '''\n",
    "        if self:\n",
    "            print(str(self.data), end = ' ')\n",
    "            if self.leftChild:\n",
    "                self.leftChild.preorder()\n",
    "            if self.rightChild:\n",
    "                self.rightChild.preorder()\n",
    "\n",
    "    def inorder(self):\n",
    "        ''' For Inorder traversal of the BST '''\n",
    "        if self:\n",
    "            if self.leftChild:\n",
    "                self.leftChild.inorder()\n",
    "            print(str(self.data), end = ' ')\n",
    "            if self.rightChild:\n",
    "                self.rightChild.inorder()\n",
    "\n",
    "    def postorder(self):\n",
    "        ''' For postorder traversal of the BST '''\n",
    "        if self:\n",
    "            if self.leftChild:\n",
    "                self.leftChild.postorder()\n",
    "            if self.rightChild:\n",
    "                self.rightChild.postorder()\n",
    "            print(str(self.data), end = ' ')\n",
    "\n",
    "class Tree(object):\n",
    "    def __init__(self):\n",
    "        self.root = None\n",
    "       # print(id(self.root))\n",
    "    def insert(self, data):\n",
    "       # print(\"Tree Insert\",data)\n",
    "        if self.root:\n",
    "       #     print(\"Tree Insetion\",id(self.root))\n",
    "            return self.root.Insert(data)\n",
    "        else:\n",
    "            self.root = Node(data)\n",
    "       #     print(\"Creation \\t:\",id(self.root))\n",
    "            return True\n",
    "\n",
    "    def delete(self, data):\n",
    "        if self.root is not None:\n",
    "            return self.root.delete(data)\n",
    "\n",
    "    def find(self, data):\n",
    "        if self.root:\n",
    "            return self.root.find(data)\n",
    "        else:\n",
    "            return False\n",
    "\n",
    "    def preorder(self):\n",
    "        if self.root is not None:\n",
    "            print()\n",
    "            print('Preorder: ')\n",
    "            self.root.preorder()\n",
    "\n",
    "    def inorder(self):\n",
    "        print()\n",
    "        if self.root is not None:\n",
    "            print('Inorder: ')\n",
    "            self.root.inorder()\n",
    "\n",
    "    def Postorder(self):\n",
    "        print()\n",
    "        if self.root is not None:\n",
    "            print('Postorder: ')\n",
    "            self.root.postorder()\n",
    "\n"
   ]
  },
  {
   "cell_type": "code",
   "execution_count": 173,
   "metadata": {},
   "outputs": [
    {
     "name": "stdout",
     "output_type": "stream",
     "text": [
      "Node Insert 12\n",
      "Node Insert 5\n",
      "\t\tNode Recursive left Child\t\t 2704072254920\n",
      "Node Insert 4\n",
      "\t\tRecursive left Child\t\t 2704072254920\n",
      "Node Insert 4\n",
      "\t\tNode Recursive left Child\t\t 2704081970376\n",
      "Node Insert 20\n",
      "Node Insert 20\n",
      "Node Insert 30\n",
      "Node Insert 30\n",
      "Node Insert 30\n",
      "Node Insert 8\n",
      "\t\tRecursive left Child\t\t 2704072254920\n",
      "Node Insert 8\n",
      "Node Insert 7\n",
      "\t\tRecursive left Child\t\t 2704072254920\n",
      "Node Insert 7\n",
      "Node Insert 7\n",
      "\t\tNode Recursive left Child\t\t 2704072457288\n",
      "Node Insert 15\n",
      "Node Insert 15\n",
      "Node Insert 15\n",
      "\t\tNode Recursive left Child\t\t 2704084882568\n",
      "Node Insert 13\n",
      "Node Insert 13\n",
      "Node Insert 13\n",
      "\t\tRecursive left Child\t\t 2704084882568\n",
      "Node Insert 13\n",
      "\t\tNode Recursive left Child\t\t 2704074521544\n",
      "False\n",
      "True\n",
      "\n",
      "Preorder: \n",
      "10 5 4 8 7 12 20 15 13 30 \n",
      "Inorder: \n",
      "4 5 7 8 10 12 13 15 20 30 \n",
      "Postorder: \n",
      "4 7 8 5 13 15 30 20 12 10 \n",
      "\n",
      "After deleting 20\n",
      "\n",
      "Inorder: \n",
      "4 5 7 8 10 12 13 15 30 \n",
      "Preorder: \n",
      "10 5 4 8 7 12 30 15 13 \n",
      "\n",
      "After deleting 10\n",
      "\n",
      "Inorder: \n",
      "4 5 7 8 12 13 15 30 \n",
      "Preorder: \n",
      "12 5 4 8 7 30 15 13 "
     ]
    }
   ],
   "source": [
    "if __name__ == '__main__':\n",
    "    tree = Tree()\n",
    "    tree.insert(10)\n",
    "    tree.insert(12)\n",
    "    tree.insert(5)\n",
    "    tree.insert(4)\n",
    "    tree.insert(20)\n",
    "    tree.insert(30)\n",
    "    tree.insert(8)\n",
    "    tree.insert(7)\n",
    "    tree.insert(15)\n",
    "    tree.insert(13)\n",
    "    print(tree.find(1))\n",
    "    print(tree.find(12))\n",
    "    ''' Following tree is getting created:\n",
    "                    10\n",
    "                 /      \\\n",
    "               5         12\n",
    "              / \\           \\\n",
    "            4     8          20\n",
    "                 /          /\n",
    "                7         15\n",
    "                         /\n",
    "                       13\n",
    "    '''\n",
    "\n",
    "    tree.preorder()\n",
    "    tree.inorder()\n",
    "    tree.Postorder()\n",
    "    print('\\n\\nAfter deleting 20')\n",
    "    tree.delete(20)\n",
    "    tree.inorder()\n",
    "    tree.preorder()\n",
    "    print('\\n\\nAfter deleting 10')\n",
    "    tree.delete(10)\n",
    "    tree.inorder()\n",
    "    tree.preorder()"
   ]
  },
  {
   "cell_type": "code",
   "execution_count": 165,
   "metadata": {},
   "outputs": [],
   "source": [
    "tree=Tree()\n",
    "tree.root"
   ]
  },
  {
   "cell_type": "code",
   "execution_count": null,
   "metadata": {},
   "outputs": [],
   "source": []
  },
  {
   "cell_type": "code",
   "execution_count": null,
   "metadata": {},
   "outputs": [],
   "source": []
  },
  {
   "cell_type": "code",
   "execution_count": null,
   "metadata": {},
   "outputs": [],
   "source": []
  },
  {
   "cell_type": "code",
   "execution_count": 59,
   "metadata": {},
   "outputs": [
    {
     "name": "stdout",
     "output_type": "stream",
     "text": [
      "6\n"
     ]
    }
   ],
   "source": [
    "X=NestedFunc(6)\n",
    "print(X.Num)"
   ]
  },
  {
   "cell_type": "code",
   "execution_count": 60,
   "metadata": {},
   "outputs": [
    {
     "data": {
      "text/plain": [
       "720"
      ]
     },
     "execution_count": 60,
     "metadata": {},
     "output_type": "execute_result"
    }
   ],
   "source": [
    "fa=X.fact()\n",
    "fa"
   ]
  },
  {
   "cell_type": "code",
   "execution_count": 21,
   "metadata": {},
   "outputs": [
    {
     "data": {
      "text/plain": [
       "0"
      ]
     },
     "execution_count": 21,
     "metadata": {},
     "output_type": "execute_result"
    }
   ],
   "source": [
    "X.Num"
   ]
  },
  {
   "cell_type": "code",
   "execution_count": 29,
   "metadata": {},
   "outputs": [],
   "source": [
    "def f(num):\n",
    "    if num==1:\n",
    "        return 1\n",
    "    else:\n",
    "        return num*f(num-1)"
   ]
  },
  {
   "cell_type": "code",
   "execution_count": 30,
   "metadata": {},
   "outputs": [
    {
     "data": {
      "text/plain": [
       "24"
      ]
     },
     "execution_count": 30,
     "metadata": {},
     "output_type": "execute_result"
    }
   ],
   "source": [
    "f(4)"
   ]
  },
  {
   "cell_type": "code",
   "execution_count": 174,
   "metadata": {},
   "outputs": [],
   "source": [
    "class Node:\n",
    "    def __init__(self, val):\n",
    "        self.val = val\n",
    "        self.leftChild = None\n",
    "        self.rightChild = None\n",
    "    \n",
    "    def get(self):\n",
    "        return self.val\n",
    "    \n",
    "    def set(self, val):\n",
    "        self.val = val\n",
    "        \n",
    "    def getChildren(self):\n",
    "        children = []\n",
    "        if(self.leftChild != None):\n",
    "            children.append(self.leftChild)\n",
    "        if(self.rightChild != None):\n",
    "            children.append(self.rightChild)\n",
    "        return children\n",
    "        \n",
    "class BST:\n",
    "    def __init__(self):\n",
    "        self.root = None\n",
    "\n",
    "    def setRoot(self, val):\n",
    "        self.root = Node(val)\n",
    "\n",
    "    def insert(self, val):\n",
    "        if(self.root is None):\n",
    "            self.setRoot(val)\n",
    "        else:\n",
    "            self.insertNode(self.root, val)\n",
    "\n",
    "    def insertNode(self, currentNode, val):\n",
    "        if(val <= currentNode.val):\n",
    "            if(currentNode.leftChild):\n",
    "                self.insertNode(currentNode.leftChild, val)\n",
    "            else:\n",
    "                currentNode.leftChild = Node(val)\n",
    "        elif(val > currentNode.val):\n",
    "            if(currentNode.rightChild):\n",
    "                self.insertNode(currentNode.rightChild, val)\n",
    "            else:\n",
    "                currentNode.rightChild = Node(val)\n",
    "\n",
    "    def find(self, val):\n",
    "        return self.findNode(self.root, val)\n",
    "\n",
    "    def findNode(self, currentNode, val):\n",
    "        if(currentNode is None):\n",
    "            return False\n",
    "        elif(val == currentNode.val):\n",
    "            return True\n",
    "        elif(val < currentNode.val):\n",
    "            return self.findNode(currentNode.leftChild, val)\n",
    "        else:\n",
    "            return self.findNode(currentNode.rightChild, val)"
   ]
  },
  {
   "cell_type": "code",
   "execution_count": 175,
   "metadata": {},
   "outputs": [],
   "source": [
    "tree=BST()"
   ]
  },
  {
   "cell_type": "code",
   "execution_count": 176,
   "metadata": {},
   "outputs": [],
   "source": [
    "tree.insert(10)"
   ]
  },
  {
   "cell_type": "code",
   "execution_count": 177,
   "metadata": {},
   "outputs": [],
   "source": [
    "tree.insert(12)\n",
    "tree.insert(5)\n",
    "tree.insert(4)\n",
    "tree.insert(20)\n",
    "tree.insert(30)\n",
    "tree.insert(8)\n",
    "tree.insert(7)\n",
    "tree.insert(15)\n",
    "tree.insert(13)"
   ]
  },
  {
   "cell_type": "code",
   "execution_count": 178,
   "metadata": {},
   "outputs": [
    {
     "data": {
      "text/plain": [
       "True"
      ]
     },
     "execution_count": 178,
     "metadata": {},
     "output_type": "execute_result"
    }
   ],
   "source": [
    "tree.find(30)"
   ]
  },
  {
   "cell_type": "code",
   "execution_count": null,
   "metadata": {},
   "outputs": [],
   "source": []
  }
 ],
 "metadata": {
  "kernelspec": {
   "display_name": "Python 3",
   "language": "python",
   "name": "python3"
  },
  "language_info": {
   "codemirror_mode": {
    "name": "ipython",
    "version": 3
   },
   "file_extension": ".py",
   "mimetype": "text/x-python",
   "name": "python",
   "nbconvert_exporter": "python",
   "pygments_lexer": "ipython3",
   "version": "3.7.4"
  },
  "widgets": {
   "application/vnd.jupyter.widget-state+json": {
    "state": {},
    "version_major": 2,
    "version_minor": 0
   }
  }
 },
 "nbformat": 4,
 "nbformat_minor": 2
}
