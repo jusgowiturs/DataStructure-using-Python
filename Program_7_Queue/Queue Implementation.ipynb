{
 "cells": [
  {
   "cell_type": "code",
   "execution_count": 34,
   "metadata": {},
   "outputs": [],
   "source": [
    "class MyQueue:\n",
    "    def __init__(self):\n",
    "        self.__Q=list()\n",
    "    def add(self,data):\n",
    "        self.__Q.append(data)\n",
    "    def pop(self):\n",
    "        try:\n",
    "            return self.__Q.pop(0)\n",
    "        except:\n",
    "            print(\"Queue is Empty \")\n",
    "            return None\n",
    "    def __str__(self):\n",
    "        return str(self.__Q)\n",
    "    def __len__(self):\n",
    "        return len(self.__Q)\n",
    "    def peek(self):\n",
    "        try:\n",
    "            return self.__Q[0]\n",
    "        except:\n",
    "            print(\"Queue is Empty\")\n",
    "            return None\n",
    "    def isEmpty(self):\n",
    "        if len(self.__Q)==0:\n",
    "            return True\n",
    "        else:\n",
    "            return False\n",
    "    \n"
   ]
  },
  {
   "cell_type": "code",
   "execution_count": 35,
   "metadata": {},
   "outputs": [
    {
     "name": "stdout",
     "output_type": "stream",
     "text": [
      "[]\n",
      "[]\n",
      "[10]\n",
      "[10, 20]\n",
      "[10, 20, 30]\n"
     ]
    }
   ],
   "source": [
    "q=MyQueue()\n",
    "print(q)\n",
    "q.isEmpty()\n",
    "print(q)\n",
    "q.add(10)\n",
    "print(q)\n",
    "q.add(20)\n",
    "print(q)\n",
    "q.add(30)\n",
    "print(q)\n"
   ]
  },
  {
   "cell_type": "code",
   "execution_count": 36,
   "metadata": {},
   "outputs": [
    {
     "name": "stdout",
     "output_type": "stream",
     "text": [
      "False\n",
      "10\n"
     ]
    }
   ],
   "source": [
    "print(q.isEmpty())\n",
    "\n",
    "print(q.peek())"
   ]
  },
  {
   "cell_type": "code",
   "execution_count": 37,
   "metadata": {},
   "outputs": [
    {
     "name": "stdout",
     "output_type": "stream",
     "text": [
      "[10, 20, 30]\n"
     ]
    }
   ],
   "source": [
    "print(q)"
   ]
  },
  {
   "cell_type": "code",
   "execution_count": 38,
   "metadata": {},
   "outputs": [
    {
     "name": "stdout",
     "output_type": "stream",
     "text": [
      "10\n",
      "20\n",
      "30\n"
     ]
    }
   ],
   "source": [
    "\n",
    "print(q.pop())\n",
    "print(q.pop())\n",
    "print(q.pop())"
   ]
  },
  {
   "cell_type": "code",
   "execution_count": null,
   "metadata": {},
   "outputs": [],
   "source": []
  },
  {
   "cell_type": "code",
   "execution_count": 39,
   "metadata": {},
   "outputs": [],
   "source": [
    "from collections import deque \n",
    "\n",
    "#q1 =deque(maxlen=8)\n",
    "q1 = deque()"
   ]
  },
  {
   "cell_type": "code",
   "execution_count": 40,
   "metadata": {},
   "outputs": [
    {
     "name": "stdout",
     "output_type": "stream",
     "text": [
      "deque([10])\n",
      "deque([10, 20])\n",
      "deque([10, 20, 30])\n",
      "deque([10, 20, 30, 40])\n",
      "deque([10, 20, 30, 40, 50])\n",
      "deque([10, 20, 30, 40, 50, 60])\n",
      "deque([10, 20, 30, 40, 50, 60, 70])\n",
      "deque([10, 20, 30, 40, 50, 60, 70, 80])\n",
      "deque([10, 20, 30, 40, 50, 60, 70, 80, 90])\n"
     ]
    }
   ],
   "source": [
    "\n",
    "q1.append(10)\n",
    "print(q1)\n",
    "q1.append(20)\n",
    "print(q1)\n",
    "q1.append(30)\n",
    "print(q1)\n",
    "q1.append(40)\n",
    "print(q1)\n",
    "q1.append(50)\n",
    "print(q1)\n",
    "q1.append(60)\n",
    "print(q1)\n",
    "q1.append(70)\n",
    "print(q1)\n",
    "q1.append(80)\n",
    "print(q1)\n",
    "q1.append(90)\n",
    "print(q1)"
   ]
  },
  {
   "cell_type": "code",
   "execution_count": 41,
   "metadata": {},
   "outputs": [
    {
     "name": "stdout",
     "output_type": "stream",
     "text": [
      "10\n",
      "deque([20, 30, 40, 50, 60, 70, 80, 90])\n",
      "20\n",
      "deque([30, 40, 50, 60, 70, 80, 90])\n",
      "30\n",
      "deque([40, 50, 60, 70, 80, 90])\n",
      "40\n",
      "deque([50, 60, 70, 80, 90])\n",
      "50\n",
      "deque([60, 70, 80, 90])\n",
      "60\n",
      "deque([70, 80, 90])\n",
      "70\n",
      "deque([80, 90])\n",
      "80\n",
      "deque([90])\n",
      "90\n",
      "deque([])\n"
     ]
    }
   ],
   "source": [
    "print(q1.popleft())\n",
    "print(q1)\n",
    "print(q1.popleft())\n",
    "print(q1)\n",
    "print(q1.popleft())\n",
    "print(q1)\n",
    "print(q1.popleft())\n",
    "print(q1)\n",
    "print(q1.popleft())\n",
    "print(q1)\n",
    "print(q1.popleft())\n",
    "print(q1)\n",
    "print(q1.popleft())\n",
    "print(q1)\n",
    "print(q1.popleft())\n",
    "print(q1)\n",
    "print(q1.popleft())\n",
    "print(q1)\n"
   ]
  },
  {
   "cell_type": "code",
   "execution_count": 42,
   "metadata": {},
   "outputs": [],
   "source": [
    "from queue import Queue \n",
    "\n",
    "q2=Queue()\n",
    "#q2=Queue(maxsize=10)\n"
   ]
  },
  {
   "cell_type": "code",
   "execution_count": 43,
   "metadata": {},
   "outputs": [],
   "source": [
    "i=0\n",
    "q2.put(i)\n",
    "i+=1\n",
    "q2.put(i)\n",
    "i+=1\n",
    "q2.put(i)\n",
    "i+=1\n",
    "q2.put(i)\n",
    "i+=1\n",
    "q2.put(i)\n",
    "i+=1\n",
    "q2.put(i)\n",
    "i+=1\n",
    "q2.put(i)\n",
    "i+=1\n",
    "q2.put(i)\n",
    "i+=1\n",
    "q2.put(i)\n",
    "i+=1\n",
    "q2.put_nowait(i)\n",
    "i+=1\n",
    "q2.put_nowait(i)\n",
    "i+=1\n",
    "q2.put_nowait(i)\n",
    "i+=1"
   ]
  },
  {
   "cell_type": "code",
   "execution_count": 44,
   "metadata": {},
   "outputs": [
    {
     "name": "stdout",
     "output_type": "stream",
     "text": [
      "0\n",
      "1\n",
      "2\n",
      "3\n",
      "4\n",
      "5\n",
      "6\n",
      "7\n",
      "8\n",
      "9\n",
      "10\n",
      "11\n"
     ]
    }
   ],
   "source": [
    "while  not q2.empty():\n",
    "    print(q2.get_nowait())"
   ]
  },
  {
   "cell_type": "code",
   "execution_count": null,
   "metadata": {},
   "outputs": [],
   "source": []
  },
  {
   "cell_type": "code",
   "execution_count": 45,
   "metadata": {},
   "outputs": [],
   "source": [
    "import time\n",
    "Myqueue1=MyQueue()\n",
    "CollectionQueue = deque()\n",
    "Queue_queue = Queue()"
   ]
  },
  {
   "cell_type": "code",
   "execution_count": 52,
   "metadata": {},
   "outputs": [
    {
     "name": "stdout",
     "output_type": "stream",
     "text": [
      "Time Duration in my queue\t\t:\t 0.9095680713653564\n",
      "Time Duration in Queue from Collections\t:\t 0.014960289001464844\n",
      "Time Duration in Queue from Queue\t:\t 0.30422091484069824\n"
     ]
    }
   ],
   "source": [
    "t0=time.time()\n",
    "for i in range(100000):\n",
    "    Myqueue1.add(i)\n",
    "for i in range(100000):\n",
    "    Myqueue1.pop()\n",
    "t_out=time.time()\n",
    "print(\"Time Duration in my queue\\t\\t:\\t\",t_out-t0)\n",
    "t0=time.time()\n",
    "for i in range(100000):\n",
    "    CollectionQueue.append(i)\n",
    "for i in range(100000):\n",
    "    CollectionQueue.popleft()\n",
    "t_out=time.time()\n",
    "print(\"Time Duration in Queue from Collections\\t:\\t\",t_out-t0)\n",
    "t0=time.time()\n",
    "for i in range(100000):\n",
    "    Queue_queue.put_nowait(i)\n",
    "for i in range(100000):\n",
    "    Queue_queue.get_nowait()\n",
    "t_out=time.time()\n",
    "print(\"Time Duration in Queue from Queue\\t:\\t\",t_out-t0)\n"
   ]
  },
  {
   "cell_type": "code",
   "execution_count": null,
   "metadata": {},
   "outputs": [],
   "source": []
  }
 ],
 "metadata": {
  "kernelspec": {
   "display_name": "Python 3",
   "language": "python",
   "name": "python3"
  },
  "language_info": {
   "codemirror_mode": {
    "name": "ipython",
    "version": 3
   },
   "file_extension": ".py",
   "mimetype": "text/x-python",
   "name": "python",
   "nbconvert_exporter": "python",
   "pygments_lexer": "ipython3",
   "version": "3.7.4"
  }
 },
 "nbformat": 4,
 "nbformat_minor": 2
}
